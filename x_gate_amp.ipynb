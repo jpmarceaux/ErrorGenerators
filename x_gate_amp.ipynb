{
 "cells": [
  {
   "cell_type": "code",
   "execution_count": 1,
   "id": "f3f44384-7322-4fd5-b32d-a0c36b453f1f",
   "metadata": {
    "tags": []
   },
   "outputs": [],
   "source": [
    "import matplotlib.pyplot as plt\n",
    "import numpy as np\n",
    "\n",
    "import error_generators as _eg\n",
    "from IPython.display import display\n",
    "from importlib import reload\n",
    "from scipy.linalg import expm, logm\n",
    "import sympy as _sp"
   ]
  },
  {
   "cell_type": "code",
   "execution_count": 70,
   "id": "3957b5be-b107-495f-8ba1-fc78d646fcdd",
   "metadata": {
    "tags": []
   },
   "outputs": [],
   "source": [
    "from pygsti.modelpacks import smq1Q_XYZI as std\n",
    "target_model = std.target_model()\n",
    "meas_0 = np.round(target_model[('Mdefault')]['0'].to_dense()/np.sqrt(2), 6)\n",
    "meas_1 = np.round(target_model[('Mdefault')]['1'].to_dense()/np.sqrt(2), 6)\n",
    "rho0 = target_model['rho0']\n",
    "rho0 = np.round(np.sqrt(2)*rho0.to_dense())\n",
    "mat_Gx = np.round(target_model[('Gxpi2', 0)].to_dense())\n",
    "mat_Gy = np.round(target_model[('Gypi2', 0)].to_dense())"
   ]
  },
  {
   "cell_type": "code",
   "execution_count": 71,
   "id": "a5f321ae-5a58-436e-bcac-575170fdf488",
   "metadata": {
    "tags": []
   },
   "outputs": [],
   "source": [
    "rho1 = mat_Gx@rho0\n",
    "rho2 = mat_Gx@mat_Gx@rho0\n",
    "rho3 = mat_Gx@mat_Gx@mat_Gx@rho0"
   ]
  },
  {
   "cell_type": "code",
   "execution_count": 85,
   "id": "8a3e00d7-36a3-4aff-ad0c-d0f2653cb02f",
   "metadata": {
    "tags": []
   },
   "outputs": [],
   "source": [
    "rhos = [rho0, rho1, rho2, rho3]\n",
    "labels = [' 0', '-i', ' 1', '+i']"
   ]
  },
  {
   "cell_type": "code",
   "execution_count": 86,
   "id": "3f5c603f-6824-4d98-aaad-f9450de8cca9",
   "metadata": {
    "tags": []
   },
   "outputs": [],
   "source": [
    "ebasis = _eg.EEBasis(1)"
   ]
  },
  {
   "cell_type": "code",
   "execution_count": 87,
   "id": "5a0d3647-71e9-461f-8cda-2c0393e47005",
   "metadata": {
    "tags": []
   },
   "outputs": [
    {
     "data": {
      "text/plain": [
       "[{H}^{X}_{Gq0},\n",
       " {H}^{Y}_{Gq0},\n",
       " {H}^{Z}_{Gq0},\n",
       " {S}^{X}_{Gq0},\n",
       " {C}^{XxY}_{Gq0},\n",
       " {A}^{XxY}_{Gq0},\n",
       " {C}^{XxZ}_{Gq0},\n",
       " {A}^{XxZ}_{Gq0},\n",
       " {S}^{Y}_{Gq0},\n",
       " {C}^{YxZ}_{Gq0},\n",
       " {A}^{YxZ}_{Gq0},\n",
       " {S}^{Z}_{Gq0}]"
      ]
     },
     "execution_count": 87,
     "metadata": {},
     "output_type": "execute_result"
    }
   ],
   "source": [
    "ebasis.vec"
   ]
  },
  {
   "cell_type": "code",
   "execution_count": 88,
   "id": "8ebe00de-6e13-41cc-b5b0-85587b3f3fc5",
   "metadata": {
    "tags": []
   },
   "outputs": [],
   "source": [
    "Hx = ebasis.bmat(ebasis.vec[0])\n",
    "Sx = ebasis.bmat(ebasis.vec[3])\n",
    "Ayz = ebasis.bmat(ebasis.vec[-2])\n",
    "SySz = 0.5*(ebasis.bmat(ebasis.vec[-4]) + ebasis.bmat(ebasis.vec[-1]))"
   ]
  },
  {
   "cell_type": "code",
   "execution_count": 89,
   "id": "ae5a39cd-7fcc-46d1-abc0-98f3480ae953",
   "metadata": {
    "tags": []
   },
   "outputs": [
    {
     "name": "stdout",
     "output_type": "stream",
     "text": [
      "Hx on  0:  [ 0.  0. -2.  0.]\n",
      "Hx on -i:  [ 0.  0.  0. -2.]\n",
      "Hx on  1:  [0. 0. 2. 0.]\n",
      "Hx on +i:  [0. 0. 0. 2.]\n",
      "Sx on  0:  [ 0.  0.  0. -2.]\n",
      "Sx on -i:  [0. 0. 2. 0.]\n",
      "Sx on  1:  [0. 0. 0. 2.]\n",
      "Sx on +i:  [ 0.  0. -2.  0.]\n",
      "Ayz on  0:  [ 0. -4.  0.  0.]\n",
      "Ayz on -i:  [ 0. -4.  0.  0.]\n",
      "Ayz on  1:  [ 0. -4.  0.  0.]\n",
      "Ayz on +i:  [ 0. -4.  0.  0.]\n",
      "SySz on  0:  [ 0.  0.  0. -1.]\n",
      "SySz on -i:  [0. 0. 1. 0.]\n",
      "SySz on  1:  [0. 0. 0. 1.]\n",
      "SySz on +i:  [ 0.  0. -1.  0.]\n"
     ]
    }
   ],
   "source": [
    "for idx, r in enumerate(rhos):\n",
    "    print(f'Hx on {labels[idx]}: ', Hx@r)\n",
    "for idx, r in enumerate(rhos):\n",
    "    print(f'Sx on {labels[idx]}: ', Sx@r)\n",
    "for idx, r in enumerate(rhos):\n",
    "    print(f'Ayz on {labels[idx]}: ', Ayz@r)\n",
    "for idx, r in enumerate(rhos):\n",
    "    print(f'SySz on {labels[idx]}: ', SySz@r)"
   ]
  },
  {
   "cell_type": "code",
   "execution_count": 90,
   "id": "dbe149a7-79a3-4fe2-8e05-4512478b43bd",
   "metadata": {
    "tags": []
   },
   "outputs": [
    {
     "data": {
      "text/plain": [
       "1.0"
      ]
     },
     "execution_count": 90,
     "metadata": {},
     "output_type": "execute_result"
    }
   ],
   "source": [
    "meas_1@Hx@rho1"
   ]
  },
  {
   "cell_type": "code",
   "execution_count": 91,
   "id": "4f16a32c-4465-4de2-b213-914b3c4c1274",
   "metadata": {
    "tags": []
   },
   "outputs": [
    {
     "data": {
      "text/plain": [
       "array([ 0.5,  0. ,  0. , -0.5])"
      ]
     },
     "execution_count": 91,
     "metadata": {},
     "output_type": "execute_result"
    }
   ],
   "source": [
    "meas_1"
   ]
  },
  {
   "cell_type": "code",
   "execution_count": 92,
   "id": "c2ebd666-2a74-4236-96b3-f070cbbdad61",
   "metadata": {
    "tags": []
   },
   "outputs": [
    {
     "name": "stdout",
     "output_type": "stream",
     "text": [
      "<<0|Hx| 0>> and <<1|Hx| 0>> :  0.0 ,  0.0\n",
      "<<0|Hx|-i>> and <<1|Hx|-i>> :  -1.0 ,  1.0\n",
      "<<0|Hx| 1>> and <<1|Hx| 1>> :  0.0 ,  0.0\n",
      "<<0|Hx|+i>> and <<1|Hx|+i>> :  1.0 ,  -1.0\n",
      "<<0|Sx| 0>> and <<1|Sx| 0>> :  -1.0 ,  1.0\n",
      "<<0|Sx|-i>> and <<1|Sx|-i>> :  0.0 ,  0.0\n",
      "<<0|Sx| 1>> and <<1|Sx| 1>> :  1.0 ,  -1.0\n",
      "<<0|Sx|+i>> and <<1|Sx|+i>> :  0.0 ,  0.0\n",
      "<<0|Ayz| 0>> and <<1|Ayz| 0>> :  0.0 ,  0.0\n",
      "<<0|Ayz|-i>> and <<1|Ayz|-i>> :  0.0 ,  0.0\n",
      "<<0|Ayz| 1>> and <<1|Ayz| 1>> :  0.0 ,  0.0\n",
      "<<0|Ayz|+i>> and <<1|Ayz|+i>> :  0.0 ,  0.0\n",
      "<<0|SySz| 0>> and <<1|SySz| 0>> :  -0.5 ,  0.5\n",
      "<<0|SySz|-i>> and <<1|SySz|-i>> :  0.0 ,  0.0\n",
      "<<0|SySz| 1>> and <<1|SySz| 1>> :  0.5 ,  -0.5\n",
      "<<0|SySz|+i>> and <<1|SySz|+i>> :  0.0 ,  0.0\n"
     ]
    }
   ],
   "source": [
    "for idx, r in enumerate(rhos):\n",
    "    print(f'<<0|Hx|{labels[idx]}>> and <<1|Hx|{labels[idx]}>> : ', meas_0@Hx@r, ', ', meas_1@Hx@r)\n",
    "for idx, r in enumerate(rhos):\n",
    "    print(f'<<0|Sx|{labels[idx]}>> and <<1|Sx|{labels[idx]}>> : ', meas_0@Sx@r, ', ', meas_1@Sx@r)\n",
    "for idx, r in enumerate(rhos):\n",
    "    print(f'<<0|Ayz|{labels[idx]}>> and <<1|Ayz|{labels[idx]}>> : ', meas_0@Ayz@r, ', ', meas_1@Ayz@r)\n",
    "for idx, r in enumerate(rhos):\n",
    "    print(f'<<0|SySz|{labels[idx]}>> and <<1|SySz|{labels[idx]}>> : ', meas_0@SySz@r, ', ', meas_1@SySz@r)"
   ]
  },
  {
   "cell_type": "code",
   "execution_count": null,
   "id": "b16e8ef5-c2b0-4e6f-b8dc-c338a2a3a582",
   "metadata": {},
   "outputs": [],
   "source": []
  },
  {
   "cell_type": "code",
   "execution_count": null,
   "id": "17ed2fee-b914-42d3-b3d9-3412fe47ed48",
   "metadata": {},
   "outputs": [],
   "source": []
  }
 ],
 "metadata": {
  "kernelspec": {
   "display_name": "Python 3 (ipykernel)",
   "language": "python",
   "name": "python3"
  },
  "language_info": {
   "codemirror_mode": {
    "name": "ipython",
    "version": 3
   },
   "file_extension": ".py",
   "mimetype": "text/x-python",
   "name": "python",
   "nbconvert_exporter": "python",
   "pygments_lexer": "ipython3",
   "version": "3.10.11"
  }
 },
 "nbformat": 4,
 "nbformat_minor": 5
}
