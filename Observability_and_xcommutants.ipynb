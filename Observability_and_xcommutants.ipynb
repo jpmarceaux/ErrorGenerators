{
 "cells": [
  {
   "cell_type": "code",
   "execution_count": 2,
   "id": "3e3ed849-5939-474f-b024-1f635c730c96",
   "metadata": {},
   "outputs": [],
   "source": [
    "import numpy as np\n",
    "\n",
    "from error_generators import *\n",
    "\n",
    "from scipy.linalg import expm, logm"
   ]
  },
  {
   "cell_type": "code",
   "execution_count": 3,
   "id": "54996493-4987-4c07-a16f-55526342ecf6",
   "metadata": {},
   "outputs": [
    {
     "name": "stderr",
     "output_type": "stream",
     "text": [
      "/home/jpmarceaux/anaconda3/envs/ErrorGenerators/lib/python3.10/site-packages/pygsti/modelmembers/operations/lindbladerrorgen.py:1691: UserWarning: Using 'CPTP' as a Lindblad type is deprecated, and you should now use 'CPTPLND'\n",
      "  _warnings.warn(\"Using 'CPTP' as a Lindblad type is deprecated, and you should now use 'CPTPLND'\")\n"
     ]
    }
   ],
   "source": [
    "egen = ErrorGen(1)\n",
    "fvec = np.array(egen.features)\n",
    "dvec = np.array(egen.dual_features)"
   ]
  },
  {
   "cell_type": "code",
   "execution_count": 4,
   "id": "70378c39-a7d3-4bbc-aedf-b67b1110f674",
   "metadata": {},
   "outputs": [
    {
     "name": "stdout",
     "output_type": "stream",
     "text": [
      "0 {H}^{X}_{Gq0}\n",
      "1 {H}^{Y}_{Gq0}\n",
      "2 {H}^{Z}_{Gq0}\n",
      "3 {S}^{X}_{Gq0}\n",
      "4 {C}^{XxY}_{Gq0}\n",
      "5 {A}^{XxY}_{Gq0}\n",
      "6 {C}^{XxZ}_{Gq0}\n",
      "7 {A}^{XxZ}_{Gq0}\n",
      "8 {S}^{Y}_{Gq0}\n",
      "9 {C}^{YxZ}_{Gq0}\n",
      "10 {A}^{YxZ}_{Gq0}\n",
      "11 {S}^{Z}_{Gq0}\n"
     ]
    }
   ],
   "source": [
    "for idx, i in enumerate(egen.vec):\n",
    "    print(idx, i)"
   ]
  },
  {
   "cell_type": "code",
   "execution_count": 5,
   "id": "2db9daac-a463-494e-a9af-f789bcb0eee1",
   "metadata": {},
   "outputs": [],
   "source": [
    "Gx = np.round(expm(egen.features[0]*np.pi/4), 3)"
   ]
  },
  {
   "cell_type": "code",
   "execution_count": 6,
   "id": "5db45972-5d7e-4869-9afd-6d269c6328dc",
   "metadata": {},
   "outputs": [
    {
     "data": {
      "text/plain": [
       "array([[ 1.,  0.,  0.,  0.],\n",
       "       [ 0.,  1.,  0.,  0.],\n",
       "       [ 0.,  0.,  0., -1.],\n",
       "       [ 0.,  0.,  1.,  0.]])"
      ]
     },
     "execution_count": 6,
     "metadata": {},
     "output_type": "execute_result"
    }
   ],
   "source": [
    "Gx"
   ]
  },
  {
   "cell_type": "code",
   "execution_count": 7,
   "id": "3e318df2-60e5-4a8a-924f-51f92f80c396",
   "metadata": {},
   "outputs": [],
   "source": [
    "commutant = {\n",
    "    'Hx' : egen.features[0], \n",
    "    'Sx' : egen.features[3], \n",
    "    'amp_damp' : egen.features[10] + (egen.features[8] + egen.features[11])\n",
    "    }"
   ]
  },
  {
   "cell_type": "code",
   "execution_count": 8,
   "id": "e6107444-034a-4c58-a9c0-32323fd8b608",
   "metadata": {},
   "outputs": [],
   "source": [
    "rho0 = np.array([1, 0, 0, 1])\n",
    "meas0 = np.array([1, 0, 0, 1])/2\n",
    "meas1 = np.array([1, 0, 0, -1])/2"
   ]
  },
  {
   "cell_type": "code",
   "execution_count": 9,
   "id": "00f2f4a8-5dae-432c-bec7-6491aa95f35e",
   "metadata": {},
   "outputs": [
    {
     "name": "stdout",
     "output_type": "stream",
     "text": [
      "Hx Gx^0 rho0 [ 0.  0. -2.  0.]\n",
      "Hx Gx^1 rho0 [ 0.  0.  0. -2.]\n",
      "Hx Gx^2 rho0 [0. 0. 2. 0.]\n",
      "Hx Gx^3 rho0 [0. 0. 0. 2.]\n",
      "Sx Gx^0 rho0 [ 0.  0.  0. -2.]\n",
      "Sx Gx^1 rho0 [0. 0. 2. 0.]\n",
      "Sx Gx^2 rho0 [0. 0. 0. 2.]\n",
      "Sx Gx^3 rho0 [ 0.  0. -2.  0.]\n",
      "amp_damp Gx^0 rho0 [ 0. -4.  0. -2.]\n",
      "amp_damp Gx^1 rho0 [ 0. -4.  2.  0.]\n",
      "amp_damp Gx^2 rho0 [ 0. -4.  0.  2.]\n",
      "amp_damp Gx^3 rho0 [ 0. -4. -2.  0.]\n"
     ]
    }
   ],
   "source": [
    "for lbl, mat in commutant.items():\n",
    "    print(lbl, 'Gx^0 rho0', mat@rho0)\n",
    "    print(lbl, 'Gx^1 rho0', mat@Gx@rho0)\n",
    "    print(lbl, 'Gx^2 rho0', mat@Gx@Gx@rho0)\n",
    "    print(lbl, 'Gx^3 rho0', mat@Gx@Gx@Gx@rho0)"
   ]
  },
  {
   "cell_type": "code",
   "execution_count": 10,
   "id": "0cf0f0b6-78c2-4fe1-b5f5-38bad9efbb2a",
   "metadata": {},
   "outputs": [
    {
     "name": "stdout",
     "output_type": "stream",
     "text": [
      "Hx meas0 Gx^0 rho0 0.0\n",
      "Hx meas0 Gx^1 rho0 -1.0\n",
      "Hx meas0 Gx^2 rho0 0.0\n",
      "Hx meas0 Gx^3 rho0 1.0\n",
      "Sx meas0 Gx^0 rho0 -1.0\n",
      "Sx meas0 Gx^1 rho0 0.0\n",
      "Sx meas0 Gx^2 rho0 1.0\n",
      "Sx meas0 Gx^3 rho0 0.0\n",
      "amp_damp meas0 Gx^0 rho0 -1.0\n",
      "amp_damp meas0 Gx^1 rho0 0.0\n",
      "amp_damp meas0 Gx^2 rho0 1.0\n",
      "amp_damp meas0 Gx^3 rho0 0.0\n"
     ]
    }
   ],
   "source": [
    "for lbl, mat in commutant.items():\n",
    "    print(lbl, 'meas0 Gx^0 rho0', meas0@mat@rho0)\n",
    "    print(lbl, 'meas0 Gx^1 rho0', meas0@mat@Gx@rho0)\n",
    "    print(lbl, 'meas0 Gx^2 rho0', meas0@mat@Gx@Gx@rho0)\n",
    "    print(lbl, 'meas0 Gx^3 rho0', meas0@mat@Gx@Gx@Gx@rho0)"
   ]
  },
  {
   "cell_type": "code",
   "execution_count": 11,
   "id": "fd0d4b47-fe59-4303-a441-90f76bcacb23",
   "metadata": {},
   "outputs": [
    {
     "name": "stdout",
     "output_type": "stream",
     "text": [
      "Hx meas1 Gx^0 rho0 0.0\n",
      "Hx meas1 Gx^1 rho0 1.0\n",
      "Hx meas1 Gx^2 rho0 0.0\n",
      "Hx meas1 Gx^3 rho0 -1.0\n",
      "Sx meas1 Gx^0 rho0 1.0\n",
      "Sx meas1 Gx^1 rho0 0.0\n",
      "Sx meas1 Gx^2 rho0 -1.0\n",
      "Sx meas1 Gx^3 rho0 0.0\n",
      "amp_damp meas1 Gx^0 rho0 1.0\n",
      "amp_damp meas1 Gx^1 rho0 0.0\n",
      "amp_damp meas1 Gx^2 rho0 -1.0\n",
      "amp_damp meas1 Gx^3 rho0 0.0\n"
     ]
    }
   ],
   "source": [
    "for lbl, mat in commutant.items():\n",
    "    print(lbl, 'meas1 Gx^0 rho0', meas1@mat@rho0)\n",
    "    print(lbl, 'meas1 Gx^1 rho0', meas1@mat@Gx@rho0)\n",
    "    print(lbl, 'meas1 Gx^2 rho0', meas1@mat@Gx@Gx@rho0)\n",
    "    print(lbl, 'meas1 Gx^3 rho0', meas1@mat@Gx@Gx@Gx@rho0)"
   ]
  },
  {
   "attachments": {},
   "cell_type": "markdown",
   "id": "996e59d9-92ba-485f-a70f-442c6a0e00d2",
   "metadata": {},
   "source": [
    "# learning Hamiltonian plus stochastic error on an X gate\n",
    "\n",
    "The error generator model is \n",
    "$$\n",
    "    L = \\theta_H H_x + \\theta_S S_X + \\theta_D (A_{Y.Z} + 0.5(S_Y + S_Z))\n",
    "$$\n",
    "\n",
    "We assume a set of clifford state preparation and measurement fiducials\n",
    "\n",
    "I'll construct the matrices\n",
    "$$\n",
    "    H[i, j] = \\langle \\langle F_i(m_0) | H_X  | G_j(\\rho_0) \\rangle \\rangle\n",
    "$$\n",
    "$$\n",
    "    H[i, j] = \\langle \\langle F_i(m_0) | S_X  | G_j(\\rho_0) \\rangle \\rangle\n",
    "$$\n",
    "$$\n",
    "    H[i, j] = \\langle \\langle F_i(m_0) | (A_{Y.Z} + 0.5(S_Y + S_Z)) | G_j(\\rho_0) \\rangle \\rangle\n",
    "$$\n",
    "\n",
    "The eigenvectors give the combination of experiments we should measure?\n"
   ]
  },
  {
   "cell_type": "code",
   "execution_count": 12,
   "id": "423c3412-2488-4ea9-9481-02330ee231b5",
   "metadata": {},
   "outputs": [],
   "source": [
    "state_preps = {\n",
    "    '0' : np.array([1, 0, 0, 1]),\n",
    "    '1' : np.array([1, 0, 0, -1]),\n",
    "    '+' : np.array([1, 1, 0, 0]),\n",
    "    '-' : np.array([1, -1, 0, 0]),\n",
    "    '+i' : np.array([1, 0, 1, 0]),\n",
    "    '-i' : np.array([1, 0, -1, 0])\n",
    "}\n",
    "\n",
    "meas = {\n",
    "    '0' : np.array([1, 0, 0, 1])/2,\n",
    "    '1' : np.array([1, 0, 0, -1])/2,\n",
    "    '+' : np.array([1, 1, 0, 0])/2,\n",
    "    '-' : np.array([1, -1, 0, 0])/2,\n",
    "    '+i' : np.array([1, 0, 1, 0])/2,\n",
    "    '-i' : np.array([1, 0, -1, 0])/2\n",
    "}"
   ]
  },
  {
   "cell_type": "code",
   "execution_count": 13,
   "id": "b360a48c-8cf8-4db4-a023-2ee8deff2446",
   "metadata": {},
   "outputs": [],
   "source": [
    "H_Hx = np.zeros((6, 6))\n",
    "for idx_s, (slbl, s) in enumerate(state_preps.items()):\n",
    "    for idx_m, (mlbl, m) in enumerate(meas.items()):\n",
    "        H_Hx[idx_m, idx_s] =  m@commutant['Hx']@s\n",
    "        \n",
    "H_Sx = np.zeros((6, 6))\n",
    "for idx_s, (slbl, s) in enumerate(state_preps.items()):\n",
    "    for idx_m, (mlbl, m) in enumerate(meas.items()):\n",
    "        H_Sx[idx_m, idx_s] =  m@commutant['Sx']@s\n",
    "        \n",
    "H_ad = np.zeros((6, 6))\n",
    "for idx_s, (slbl, s) in enumerate(state_preps.items()):\n",
    "    for idx_m, (mlbl, m) in enumerate(meas.items()):\n",
    "        H_ad[idx_m, idx_s] =  m@commutant['amp_damp']@s"
   ]
  },
  {
   "cell_type": "code",
   "execution_count": 14,
   "id": "dbb2abe4-502c-4848-ade9-038cc7ff319b",
   "metadata": {},
   "outputs": [
    {
     "data": {
      "text/plain": [
       "<matplotlib.image.AxesImage at 0x7f9d7e8e9f30>"
      ]
     },
     "execution_count": 14,
     "metadata": {},
     "output_type": "execute_result"
    },
    {
     "data": {
      "image/png": "[encoded data removed]",
      "text/plain": [
       "<Figure size 480x480 with 1 Axes>"
      ]
     },
     "metadata": {},
     "output_type": "display_data"
    }
   ],
   "source": [
    "plt.matshow(H_Hx)"
   ]
  },
  {
   "attachments": {},
   "cell_type": "markdown",
   "id": "a980d7a6-37ab-447b-973b-6149930b9c05",
   "metadata": {},
   "source": [
    "$$\n",
    "    \\langle \\langle 0 | e^{\\theta_h H_X} e^{\\theta_s S_X} e^{\\theta_d A_d} | +i \\rangle \\rangle = \\langle \\langle 0 | e^{\\theta_h H_X}  | +i \\rangle \\rangle = \n",
    "$$\n",
    "$$\n",
    "    \\sum_n \\frac{\\theta_h^n}{n!} \\langle \\langle 0 | H_X^n  | +i \\rangle \\rangle \n",
    "$$\n",
    "\n",
    "using that \n",
    "$$\n",
    "    \\langle \\langle 0 | H_X^n  | +i \\rangle \\rangle  = \\begin{cases}  \\frac{(-1)^n}{2} \\text{if n odd}  \\\\ 0 \\end{cases}\n",
    "$$\n",
    "we find\n",
    "$$\n",
    "    \\langle \\langle 0 | e^{\\theta_h H_X}  | +i \\rangle \\rangle  = \\frac{1}{2} + \\frac{1}{2} \\sum_{n} \\frac{\\theta_h^{2n+1}}{(2n+1)!} (-1)^{n}\n",
    "$$\n",
    "$$\n",
    "    = \\frac{1}{2} + \\frac{1}{2}\\sin(\\theta_h)\n",
    "$$\n",
    "\n",
    "measuring stochastic X error \n",
    "Consider \n",
    "$$\n",
    "    fd\n",
    "$$"
   ]
  },
  {
   "cell_type": "code",
   "execution_count": 15,
   "id": "bc1048f1-10b8-40b2-82e7-a7bf198c6561",
   "metadata": {},
   "outputs": [
    {
     "ename": "NameError",
     "evalue": "name 'm_0' is not defined",
     "output_type": "error",
     "traceback": [
      "\u001b[0;31m---------------------------------------------------------------------------\u001b[0m",
      "\u001b[0;31mNameError\u001b[0m                                 Traceback (most recent call last)",
      "Cell \u001b[0;32mIn[15], line 1\u001b[0m\n\u001b[0;32m----> 1\u001b[0m m_0\u001b[39m@p_i\u001b[39m\n",
      "\u001b[0;31mNameError\u001b[0m: name 'm_0' is not defined"
     ]
    }
   ],
   "source": [
    "m_0@p_i"
   ]
  },
  {
   "cell_type": "code",
   "execution_count": 125,
   "id": "3465a5e4-26e9-41d7-b095-ed8ff68f88d0",
   "metadata": {},
   "outputs": [
    {
     "name": "stdout",
     "output_type": "stream",
     "text": [
      "0.5\n"
     ]
    }
   ],
   "source": [
    "m_0 = meas['0']\n",
    "p_i = state_preps['+i']\n",
    "H_X = commutant['Hx']/2\n",
    "print(m_0@H_X@H_X@H_X@H_X@H_X@p_i)"
   ]
  },
  {
   "cell_type": "code",
   "execution_count": 126,
   "id": "ad6800e2-05ce-45b1-a1ea-09480dbcb69b",
   "metadata": {},
   "outputs": [],
   "source": [
    "S_X  = commutant['Sx']/2\n",
    "m_0 = meas['0']\n",
    "p_0 = state_preps['0']"
   ]
  },
  {
   "cell_type": "code",
   "execution_count": 127,
   "id": "e3e8a43b-ddba-4da5-aa9e-74f3b0360f46",
   "metadata": {},
   "outputs": [
    {
     "data": {
      "text/plain": [
       "array([1, 0, 0, 1])"
      ]
     },
     "execution_count": 127,
     "metadata": {},
     "output_type": "execute_result"
    }
   ],
   "source": [
    "p_0"
   ]
  },
  {
   "cell_type": "code",
   "execution_count": 132,
   "id": "6f0a1730-f874-47be-8d21-0c03613c2eb4",
   "metadata": {},
   "outputs": [
    {
     "name": "stdout",
     "output_type": "stream",
     "text": [
      "0.5\n"
     ]
    }
   ],
   "source": [
    "print(m_0@S_X@S_X@S_X@S_X@p_0)"
   ]
  },
  {
   "cell_type": "code",
   "execution_count": null,
   "id": "92651a90-09c3-4f21-89d1-f45d5de39538",
   "metadata": {},
   "outputs": [],
   "source": []
  },
  {
   "cell_type": "code",
   "execution_count": 76,
   "id": "ee2df297-c4b2-4b7c-b153-f18fc4fc185e",
   "metadata": {},
   "outputs": [
    {
     "data": {
      "text/plain": [
       "<matplotlib.image.AxesImage at 0x7f03d71fb9a0>"
      ]
     },
     "execution_count": 76,
     "metadata": {},
     "output_type": "execute_result"
    },
    {
     "data": {
      "image/png": "[encoded data removed]",
      "text/plain": [
       "<Figure size 480x480 with 1 Axes>"
      ]
     },
     "metadata": {},
     "output_type": "display_data"
    }
   ],
   "source": [
    "plt.matshow(H_ad)"
   ]
  },
  {
   "cell_type": "code",
   "execution_count": null,
   "id": "5b5c68b1-50a3-4217-91ee-087e97a44f24",
   "metadata": {},
   "outputs": [],
   "source": []
  }
 ],
 "metadata": {
  "kernelspec": {
   "display_name": "Python 3 (ipykernel)",
   "language": "python",
   "name": "python3"
  },
  "language_info": {
   "codemirror_mode": {
    "name": "ipython",
    "version": 3
   },
   "file_extension": ".py",
   "mimetype": "text/x-python",
   "name": "python",
   "nbconvert_exporter": "python",
   "pygments_lexer": "ipython3",
   "version": "3.10.11"
  }
 },
 "nbformat": 4,
 "nbformat_minor": 5
}
