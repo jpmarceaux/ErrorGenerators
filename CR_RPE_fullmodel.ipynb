{
 "cells": [
  {
   "cell_type": "code",
   "execution_count": 14,
   "metadata": {},
   "outputs": [],
   "source": [
    "from quapack.pyRPE import RobustPhaseEstimation\n",
    "from quapack.pyRPE.quantum import Q\n",
    "import numpy as np\n",
    "import pygsti\n",
    "%matplotlib inline\n",
    "import matplotlib.pyplot as plt\n",
    "import scipy\n",
    "from pygsti.modelpacks import smq2Q_XYICPHASE\n",
    "from pygsti.circuits import Circuit\n",
    "from pygsti.tools import create_elementary_errorgen, create_elementary_errorgen_dual\n",
    "from scipy.linalg import expm, logm, sqrtm"
   ]
  },
  {
   "cell_type": "code",
   "execution_count": null,
   "metadata": {},
   "outputs": [],
   "source": [
    "PAULIS = [\n",
    "    np.array([[1, 0], [0, 1]]),\n",
    "    np.array([[0, 1], [1, 0]]),\n",
    "    np.array([[0, -1j], [1j, 0]]),\n",
    "    np.array([[1, 0], [0, -1]])\n",
    "]"
   ]
  },
  {
   "cell_type": "code",
   "execution_count": 15,
   "metadata": {},
   "outputs": [],
   "source": [
    "def pauli_operator_2q(a, b):\n",
    "    return np.kron(Q(a), Q(b))"
   ]
  },
  {
   "cell_type": "code",
   "execution_count": 16,
   "metadata": {},
   "outputs": [
    {
     "ename": "TypeError",
     "evalue": "object.__init__() takes exactly one argument (the instance to initialize)",
     "output_type": "error",
     "traceback": [
      "\u001b[0;31m---------------------------------------------------------------------------\u001b[0m",
      "\u001b[0;31mTypeError\u001b[0m                                 Traceback (most recent call last)",
      "Cell \u001b[0;32mIn[16], line 1\u001b[0m\n\u001b[0;32m----> 1\u001b[0m pauly \u001b[39m=\u001b[39m pauli_operator_2q(\u001b[39m1\u001b[39;49m, \u001b[39m1\u001b[39;49m)\n",
      "Cell \u001b[0;32mIn[15], line 2\u001b[0m, in \u001b[0;36mpauli_operator_2q\u001b[0;34m(a, b)\u001b[0m\n\u001b[1;32m      1\u001b[0m \u001b[39mdef\u001b[39;00m \u001b[39mpauli_operator_2q\u001b[39m(a, b):\n\u001b[0;32m----> 2\u001b[0m     \u001b[39mreturn\u001b[39;00m np\u001b[39m.\u001b[39mkron(Q(a), Q(b))\n",
      "File \u001b[0;32m~/anaconda3/envs/ErrorGenerators/lib/python3.10/site-packages/quapack/pyRPE/quantum.py:18\u001b[0m, in \u001b[0;36mQ.__init__\u001b[0;34m(self, *args, **kwargs)\u001b[0m\n\u001b[1;32m     16\u001b[0m \u001b[39mdef\u001b[39;00m \u001b[39m__init__\u001b[39m(\u001b[39mself\u001b[39m, \u001b[39m*\u001b[39margs, \u001b[39m*\u001b[39m\u001b[39m*\u001b[39mkwargs):\n\u001b[1;32m     17\u001b[0m     \u001b[39mself\u001b[39m\u001b[39m.\u001b[39m_measured \u001b[39m=\u001b[39m defaultdict(\u001b[39mlambda\u001b[39;00m: numpy\u001b[39m.\u001b[39mzeros(\u001b[39m4\u001b[39m, dtype\u001b[39m=\u001b[39m\u001b[39mint\u001b[39m))\n\u001b[0;32m---> 18\u001b[0m     \u001b[39msuper\u001b[39;49m()\u001b[39m.\u001b[39;49m\u001b[39m__init__\u001b[39;49m(\u001b[39m*\u001b[39;49margs, \u001b[39m*\u001b[39;49m\u001b[39m*\u001b[39;49mkwargs)\n",
      "\u001b[0;31mTypeError\u001b[0m: object.__init__() takes exactly one argument (the instance to initialize)"
     ]
    }
   ],
   "source": [
    "pauly = pauli_operator_2q(1, 1)"
   ]
  },
  {
   "cell_type": "code",
   "execution_count": 2,
   "metadata": {},
   "outputs": [],
   "source": [
    "#Make the unitary cross-resonance gate.  Target angle is (0,0,pi/2).\n",
    "def CR_model(tix, iy, iz, tzi, tzx, tzy, tzz):\n",
    "    return scipy.linalg.expm(-1j/2 * ( tix * pygsti.sigmaix + iy * pygsti.sigmaiy + iz * pygsti.sigmaiz +\n",
    "            tzi * pygsti.sigmazi + tzy * pygsti.sigmazy + tzz * pygsti.sigmazz + \n",
    "            (tzx + np.pi/2) * pygsti.sigmazx))"
   ]
  },
  {
   "cell_type": "code",
   "execution_count": 3,
   "metadata": {},
   "outputs": [],
   "source": [
    "CR_target = CR_model(0,0,0,0,0,0,0)\n",
    "noise = 0.1*np.random.randn(7)\n",
    "CR_noisy = CR_model(*noise)"
   ]
  },
  {
   "cell_type": "code",
   "execution_count": 4,
   "metadata": {},
   "outputs": [
    {
     "data": {
      "text/plain": [
       "array([-0.1067568 , -0.04928445, -0.05918896, -0.07125827,  0.08343959,\n",
       "       -0.05482342,  0.00760164])"
      ]
     },
     "execution_count": 4,
     "metadata": {},
     "output_type": "execute_result"
    }
   ],
   "source": [
    "def post_error_pauli_coefs(noisy_unitary, target_unitary):\n",
    "    \"\"\"\n",
    "    returns an effective unitary\n",
    "    \"\"\""
   ]
  },
  {
   "cell_type": "code",
   "execution_count": 6,
   "metadata": {},
   "outputs": [],
   "source": [
    "exp_line_labels = (0,1)#What are the labels for the qubits we'll be doing RPE on?\n",
    "target_model = smq2Q_XYICPHASE.target_model(qubit_labels=exp_line_labels)\n",
    "target_model['Gcr',0,1] = pygsti.unitary_to_pauligate(CR_model(0,0,0,0,0,0,0))\n",
    "noisy_model = target_model.copy()\n",
    "noisy_model['Gcr',exp_line_labels[0],exp_line_labels[1]] = pygsti.unitary_to_pauligate(\n",
    "    CR_model(*noise))"
   ]
  },
  {
   "cell_type": "code",
   "execution_count": null,
   "metadata": {},
   "outputs": [],
   "source": []
  },
  {
   "cell_type": "code",
   "execution_count": 7,
   "metadata": {},
   "outputs": [],
   "source": [
    "def make_rpe_circ(k, germ, prep_fid, meas_fid):\n",
    "    return Circuit(meas_fid) + Circuit(germ)**k + Circuit(prep_fid)"
   ]
  },
  {
   "cell_type": "code",
   "execution_count": null,
   "metadata": {},
   "outputs": [],
   "source": []
  }
 ],
 "metadata": {
  "kernelspec": {
   "display_name": "ErrorGenerators",
   "language": "python",
   "name": "python3"
  },
  "language_info": {
   "codemirror_mode": {
    "name": "ipython",
    "version": 3
   },
   "file_extension": ".py",
   "mimetype": "text/x-python",
   "name": "python",
   "nbconvert_exporter": "python",
   "pygments_lexer": "ipython3",
   "version": "3.10.11"
  },
  "orig_nbformat": 4
 },
 "nbformat": 4,
 "nbformat_minor": 2
}
