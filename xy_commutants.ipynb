{
 "cells": [
  {
   "cell_type": "code",
   "execution_count": 2,
   "metadata": {
    "tags": [],
    "ExecuteTime": {
     "end_time": "2023-06-23T19:16:19.915206325Z",
     "start_time": "2023-06-23T19:16:18.600618230Z"
    }
   },
   "outputs": [],
   "source": [
    "import matplotlib.pyplot as plt\n",
    "import numpy as np\n",
    "\n",
    "import error_generators as _eg\n",
    "from IPython.display import display\n",
    "from importlib import reload\n",
    "from scipy.linalg import expm, logm\n",
    "import sympy as _sp"
   ]
  },
  {
   "cell_type": "code",
   "execution_count": 3,
   "metadata": {
    "collapsed": false,
    "jupyter": {
     "outputs_hidden": false
    },
    "tags": [],
    "ExecuteTime": {
     "end_time": "2023-06-23T19:16:24.306124503Z",
     "start_time": "2023-06-23T19:16:24.225038279Z"
    }
   },
   "outputs": [],
   "source": [
    "from pygsti.modelpacks import smq1Q_XYZI as std\n",
    "target_model = std.target_model()\n",
    "meas_0 = target_model[('Mdefault')]['0'].to_dense()\n",
    "meas_1 = target_model[('Mdefault')]['1'].to_dense()\n",
    "rho0 = target_model['rho0']\n",
    "rho0 = rho0.to_dense()\n",
    "mat_Gx = target_model[('Gxpi2', 0)].to_dense()\n",
    "mat_Gy = target_model[('Gypi2', 0)].to_dense()"
   ]
  },
  {
   "cell_type": "code",
   "execution_count": 4,
   "metadata": {
    "tags": [],
    "ExecuteTime": {
     "end_time": "2023-06-23T19:16:24.690179114Z",
     "start_time": "2023-06-23T19:16:24.574494156Z"
    }
   },
   "outputs": [
    {
     "data": {
      "text/plain": "array([ 0.70710678,  0.        ,  0.        , -0.70710678])"
     },
     "execution_count": 4,
     "metadata": {},
     "output_type": "execute_result"
    }
   ],
   "source": [
    "meas_1"
   ]
  },
  {
   "cell_type": "code",
   "execution_count": 5,
   "metadata": {
    "tags": [],
    "ExecuteTime": {
     "end_time": "2023-06-23T19:16:24.829136752Z",
     "start_time": "2023-06-23T19:16:24.727028396Z"
    }
   },
   "outputs": [
    {
     "data": {
      "text/plain": "array([0.70710678, 0.        , 0.        , 0.70710678])"
     },
     "execution_count": 5,
     "metadata": {},
     "output_type": "execute_result"
    }
   ],
   "source": [
    "rho0"
   ]
  },
  {
   "cell_type": "code",
   "execution_count": 6,
   "metadata": {
    "tags": [],
    "ExecuteTime": {
     "end_time": "2023-06-23T19:16:25.084765980Z",
     "start_time": "2023-06-23T19:16:25.021178576Z"
    }
   },
   "outputs": [
    {
     "data": {
      "text/plain": "array([[ 1.00000000e+00,  0.00000000e+00,  0.00000000e+00,\n         0.00000000e+00],\n       [ 0.00000000e+00,  1.00000000e+00,  0.00000000e+00,\n         0.00000000e+00],\n       [ 0.00000000e+00,  0.00000000e+00,  1.57009246e-16,\n        -1.00000000e+00],\n       [ 0.00000000e+00,  0.00000000e+00,  1.00000000e+00,\n         1.57009246e-16]])"
     },
     "execution_count": 6,
     "metadata": {},
     "output_type": "execute_result"
    }
   ],
   "source": [
    "mat_Gx"
   ]
  },
  {
   "cell_type": "code",
   "execution_count": 7,
   "metadata": {
    "collapsed": false,
    "jupyter": {
     "outputs_hidden": false
    },
    "tags": [],
    "ExecuteTime": {
     "end_time": "2023-06-23T19:16:25.586288894Z",
     "start_time": "2023-06-23T19:16:25.254189137Z"
    }
   },
   "outputs": [
    {
     "data": {
      "text/plain": "<matplotlib.image.AxesImage at 0x7f9d5b966e00>"
     },
     "execution_count": 7,
     "metadata": {},
     "output_type": "execute_result"
    },
    {
     "data": {
      "text/plain": "<Figure size 480x480 with 1 Axes>",
      "image/png": "[encoded data removed]"
     },
     "metadata": {},
     "output_type": "display_data"
    }
   ],
   "source": [
    "plt.matshow((mat_Gx))"
   ]
  },
  {
   "cell_type": "code",
   "execution_count": 8,
   "metadata": {
    "tags": [],
    "ExecuteTime": {
     "end_time": "2023-06-23T19:16:25.843436231Z",
     "start_time": "2023-06-23T19:16:25.540038960Z"
    }
   },
   "outputs": [
    {
     "data": {
      "text/plain": "<matplotlib.image.AxesImage at 0x7f9d5b835ae0>"
     },
     "execution_count": 8,
     "metadata": {},
     "output_type": "execute_result"
    },
    {
     "data": {
      "text/plain": "<Figure size 480x480 with 1 Axes>",
      "image/png": "[encoded data removed]"
     },
     "metadata": {},
     "output_type": "display_data"
    }
   ],
   "source": [
    "plt.matshow((mat_Gy))"
   ]
  },
  {
   "cell_type": "code",
   "execution_count": 9,
   "metadata": {
    "collapsed": false,
    "jupyter": {
     "outputs_hidden": false
    },
    "tags": [],
    "ExecuteTime": {
     "end_time": "2023-06-23T19:16:25.986294136Z",
     "start_time": "2023-06-23T19:16:25.842209659Z"
    }
   },
   "outputs": [],
   "source": [
    "# investigating the pygsti superop_for_perfeact_twirl\n",
    "def _super_op_for_perfect_twirl(wrt, eps):\n",
    "    \"\"\"Return super operator for doing a perfect twirl with respect to wrt.\n",
    "    \"\"\"\n",
    "    assert wrt.shape[0] == wrt.shape[1]  # only square matrices allowed\n",
    "    dim = wrt.shape[0]\n",
    "    SuperOp = np.zeros((dim**2, dim**2), 'complex')\n",
    "\n",
    "    # Get spectrum and eigenvectors of wrt\n",
    "    wrtEvals, wrtEvecs = np.linalg.eig(wrt)\n",
    "    wrtEvecsInv = np.linalg.inv(wrtEvecs)\n",
    "\n",
    "    # We want to project  X -> M * (Proj_i * (Minv * X * M) * Proj_i) * Minv,\n",
    "    # where M = wrtEvecs. So A = B = M * Proj_i * Minv and so\n",
    "    # superop = A tensor B^T == A tensor A^T\n",
    "    # NOTE: this == (A^T tensor A)^T while *Maple* germ functions seem to just\n",
    "    # use A^T tensor A -> ^T difference\n",
    "    for i in range(dim):\n",
    "        # Create projector onto i-th eigenspace (spanned by i-th eigenvector\n",
    "        # and other degenerate eigenvectors)\n",
    "        Proj_i = np.diag([(1 if (abs(wrtEvals[i] - wrtEvals[j]) <= eps)\n",
    "                            else 0) for j in range(dim)])\n",
    "        A = np.dot(wrtEvecs, np.dot(Proj_i, wrtEvecsInv))\n",
    "        #if _np.linalg.norm(A.imag) > 1e-6:\n",
    "        #    print(\"DB: imag = \",_np.linalg.norm(A.imag))\n",
    "        #assert(_np.linalg.norm(A.imag) < 1e-6)\n",
    "        #A = _np.real(A)\n",
    "        # Need to normalize, because we are overcounting projectors onto\n",
    "        # subspaces of dimension d > 1, giving us d * Proj_i tensor Proj_i^T.\n",
    "        # We can fix this with a division by tr(Proj_i) = d.\n",
    "        SuperOp += np.kron(A, A.T) / np.trace(Proj_i)\n",
    "        # SuperOp += _np.kron(A.T,A) # Mimic Maple version (but I think this is\n",
    "        # wrong... or it doesn't matter?)\n",
    "    return SuperOp  # a op_dim^2 x op_dim^2 matrix"
   ]
  },
  {
   "cell_type": "code",
   "execution_count": 10,
   "metadata": {
    "collapsed": false,
    "jupyter": {
     "outputs_hidden": false
    },
    "tags": [],
    "ExecuteTime": {
     "end_time": "2023-06-23T19:16:26.554070202Z",
     "start_time": "2023-06-23T19:16:26.256693151Z"
    }
   },
   "outputs": [
    {
     "data": {
      "text/plain": "<module 'error_generators' from '/home/jpmarceaux/PycharmProjects/ErrorGenerators/error_generators.py'>"
     },
     "execution_count": 10,
     "metadata": {},
     "output_type": "execute_result"
    }
   ],
   "source": [
    "reload(_eg)"
   ]
  },
  {
   "cell_type": "code",
   "execution_count": 11,
   "metadata": {
    "collapsed": false,
    "jupyter": {
     "outputs_hidden": false
    },
    "tags": [],
    "ExecuteTime": {
     "end_time": "2023-06-23T19:16:27.563757977Z",
     "start_time": "2023-06-23T19:16:27.473011560Z"
    }
   },
   "outputs": [
    {
     "name": "stderr",
     "output_type": "stream",
     "text": [
      "/home/jpmarceaux/anaconda3/envs/ErrorGenerators/lib/python3.10/site-packages/pygsti/modelmembers/operations/lindbladerrorgen.py:1691: UserWarning: Using 'CPTP' as a Lindblad type is deprecated, and you should now use 'CPTPLND'\n",
      "  _warnings.warn(\"Using 'CPTP' as a Lindblad type is deprecated, and you should now use 'CPTPLND'\")\n"
     ]
    }
   ],
   "source": [
    "ebasis = _eg.EEBasis(1)"
   ]
  },
  {
   "cell_type": "code",
   "execution_count": 12,
   "metadata": {
    "tags": [],
    "ExecuteTime": {
     "end_time": "2023-06-23T19:16:28.152123910Z",
     "start_time": "2023-06-23T19:16:28.080735425Z"
    }
   },
   "outputs": [],
   "source": [
    "my_unitary = np.round(mat_Gy@mat_Gx)"
   ]
  },
  {
   "cell_type": "code",
   "execution_count": 13,
   "metadata": {
    "collapsed": false,
    "jupyter": {
     "outputs_hidden": false
    },
    "tags": [],
    "ExecuteTime": {
     "end_time": "2023-06-23T19:16:29.137885693Z",
     "start_time": "2023-06-23T19:16:29.095051857Z"
    }
   },
   "outputs": [],
   "source": [
    "projector = np.round(_super_op_for_perfect_twirl(my_unitary, 1e-8), 6)"
   ]
  },
  {
   "cell_type": "code",
   "execution_count": 14,
   "metadata": {
    "collapsed": false,
    "jupyter": {
     "outputs_hidden": false
    },
    "tags": [],
    "ExecuteTime": {
     "end_time": "2023-06-23T19:16:29.856431295Z",
     "start_time": "2023-06-23T19:16:29.699536590Z"
    }
   },
   "outputs": [],
   "source": [
    "commuting_egen = (projector@ebasis.mat.reshape(16, 1)).reshape(4,4)"
   ]
  },
  {
   "cell_type": "code",
   "execution_count": 15,
   "metadata": {
    "tags": [],
    "ExecuteTime": {
     "end_time": "2023-06-23T19:16:30.371925143Z",
     "start_time": "2023-06-23T19:16:30.241555372Z"
    }
   },
   "outputs": [
    {
     "data": {
      "text/plain": "Matrix([\n[0, 0, 0, 0],\n[0, 0, 0, 0],\n[0, 0, 0, 0],\n[0, 0, 0, 0]])",
      "text/latex": "$\\displaystyle \\left[\\begin{matrix}0 & 0 & 0 & 0\\\\0 & 0 & 0 & 0\\\\0 & 0 & 0 & 0\\\\0 & 0 & 0 & 0\\end{matrix}\\right]$"
     },
     "execution_count": 15,
     "metadata": {},
     "output_type": "execute_result"
    }
   ],
   "source": [
    "commuting_egen@my_unitary - my_unitary@commuting_egen"
   ]
  },
  {
   "cell_type": "code",
   "execution_count": 20,
   "outputs": [
    {
     "data": {
      "text/plain": "array([1.57009246e-16+1.j, 1.57009246e-16-1.j, 1.00000000e+00+0.j,\n       1.00000000e+00+0.j])"
     },
     "execution_count": 20,
     "metadata": {},
     "output_type": "execute_result"
    }
   ],
   "source": [
    "np.linalg.eigvals(mat_Gx)"
   ],
   "metadata": {
    "collapsed": false,
    "ExecuteTime": {
     "end_time": "2023-06-23T19:19:49.009361846Z",
     "start_time": "2023-06-23T19:19:48.989224483Z"
    }
   }
  },
  {
   "cell_type": "code",
   "execution_count": 16,
   "metadata": {
    "tags": [],
    "ExecuteTime": {
     "end_time": "2023-06-23T19:16:31.082811793Z",
     "start_time": "2023-06-23T19:16:30.868472577Z"
    }
   },
   "outputs": [
    {
     "data": {
      "text/plain": "Matrix([\n[                                                                              0,                                                                                                                                                          0,                                                                                                                                                          0,                                                                                                                                                          0],\n[ 1.333332*{A}^{XxY}_{Gq0} + 1.333332*{A}^{XxZ}_{Gq0} - 1.333332*{A}^{YxZ}_{Gq0},                                                                                  -1.333332*{S}^{X}_{Gq0} - 1.333332*{S}^{Y}_{Gq0} - 1.333332*{S}^{Z}_{Gq0},  0.666666*{C}^{XxY}_{Gq0} - 0.666666*{C}^{XxZ}_{Gq0} - 0.666666*{C}^{YxZ}_{Gq0} + 0.666666*{H}^{X}_{Gq0} + 0.666666*{H}^{Y}_{Gq0} - 0.666666*{H}^{Z}_{Gq0}, -0.666666*{C}^{XxY}_{Gq0} + 0.666666*{C}^{XxZ}_{Gq0} + 0.666666*{C}^{YxZ}_{Gq0} + 0.666666*{H}^{X}_{Gq0} + 0.666666*{H}^{Y}_{Gq0} - 0.666666*{H}^{Z}_{Gq0}],\n[ 1.333332*{A}^{XxY}_{Gq0} + 1.333332*{A}^{XxZ}_{Gq0} - 1.333332*{A}^{YxZ}_{Gq0},  0.666666*{C}^{XxY}_{Gq0} - 0.666666*{C}^{XxZ}_{Gq0} - 0.666666*{C}^{YxZ}_{Gq0} - 0.666666*{H}^{X}_{Gq0} - 0.666666*{H}^{Y}_{Gq0} + 0.666666*{H}^{Z}_{Gq0},                                                                                  -1.333332*{S}^{X}_{Gq0} - 1.333332*{S}^{Y}_{Gq0} - 1.333332*{S}^{Z}_{Gq0}, -0.666666*{C}^{XxY}_{Gq0} + 0.666666*{C}^{XxZ}_{Gq0} + 0.666666*{C}^{YxZ}_{Gq0} - 0.666666*{H}^{X}_{Gq0} - 0.666666*{H}^{Y}_{Gq0} + 0.666666*{H}^{Z}_{Gq0}],\n[-1.333332*{A}^{XxY}_{Gq0} - 1.333332*{A}^{XxZ}_{Gq0} + 1.333332*{A}^{YxZ}_{Gq0}, -0.666666*{C}^{XxY}_{Gq0} + 0.666666*{C}^{XxZ}_{Gq0} + 0.666666*{C}^{YxZ}_{Gq0} - 0.666666*{H}^{X}_{Gq0} - 0.666666*{H}^{Y}_{Gq0} + 0.666666*{H}^{Z}_{Gq0}, -0.666666*{C}^{XxY}_{Gq0} + 0.666666*{C}^{XxZ}_{Gq0} + 0.666666*{C}^{YxZ}_{Gq0} + 0.666666*{H}^{X}_{Gq0} + 0.666666*{H}^{Y}_{Gq0} - 0.666666*{H}^{Z}_{Gq0},                                                                                  -1.333332*{S}^{X}_{Gq0} - 1.333332*{S}^{Y}_{Gq0} - 1.333332*{S}^{Z}_{Gq0}]])",
      "text/latex": "$\\displaystyle \\left[\\begin{matrix}0 & 0 & 0 & 0\\\\1.333332 {A}^{XxY}_{Gq0} + 1.333332 {A}^{XxZ}_{Gq0} - 1.333332 {A}^{YxZ}_{Gq0} & - 1.333332 {S}^{X}_{Gq0} - 1.333332 {S}^{Y}_{Gq0} - 1.333332 {S}^{Z}_{Gq0} & 0.666666 {C}^{XxY}_{Gq0} - 0.666666 {C}^{XxZ}_{Gq0} - 0.666666 {C}^{YxZ}_{Gq0} + 0.666666 {H}^{X}_{Gq0} + 0.666666 {H}^{Y}_{Gq0} - 0.666666 {H}^{Z}_{Gq0} & - 0.666666 {C}^{XxY}_{Gq0} + 0.666666 {C}^{XxZ}_{Gq0} + 0.666666 {C}^{YxZ}_{Gq0} + 0.666666 {H}^{X}_{Gq0} + 0.666666 {H}^{Y}_{Gq0} - 0.666666 {H}^{Z}_{Gq0}\\\\1.333332 {A}^{XxY}_{Gq0} + 1.333332 {A}^{XxZ}_{Gq0} - 1.333332 {A}^{YxZ}_{Gq0} & 0.666666 {C}^{XxY}_{Gq0} - 0.666666 {C}^{XxZ}_{Gq0} - 0.666666 {C}^{YxZ}_{Gq0} - 0.666666 {H}^{X}_{Gq0} - 0.666666 {H}^{Y}_{Gq0} + 0.666666 {H}^{Z}_{Gq0} & - 1.333332 {S}^{X}_{Gq0} - 1.333332 {S}^{Y}_{Gq0} - 1.333332 {S}^{Z}_{Gq0} & - 0.666666 {C}^{XxY}_{Gq0} + 0.666666 {C}^{XxZ}_{Gq0} + 0.666666 {C}^{YxZ}_{Gq0} - 0.666666 {H}^{X}_{Gq0} - 0.666666 {H}^{Y}_{Gq0} + 0.666666 {H}^{Z}_{Gq0}\\\\- 1.333332 {A}^{XxY}_{Gq0} - 1.333332 {A}^{XxZ}_{Gq0} + 1.333332 {A}^{YxZ}_{Gq0} & - 0.666666 {C}^{XxY}_{Gq0} + 0.666666 {C}^{XxZ}_{Gq0} + 0.666666 {C}^{YxZ}_{Gq0} - 0.666666 {H}^{X}_{Gq0} - 0.666666 {H}^{Y}_{Gq0} + 0.666666 {H}^{Z}_{Gq0} & - 0.666666 {C}^{XxY}_{Gq0} + 0.666666 {C}^{XxZ}_{Gq0} + 0.666666 {C}^{YxZ}_{Gq0} + 0.666666 {H}^{X}_{Gq0} + 0.666666 {H}^{Y}_{Gq0} - 0.666666 {H}^{Z}_{Gq0} & - 1.333332 {S}^{X}_{Gq0} - 1.333332 {S}^{Y}_{Gq0} - 1.333332 {S}^{Z}_{Gq0}\\end{matrix}\\right]$"
     },
     "execution_count": 16,
     "metadata": {},
     "output_type": "execute_result"
    }
   ],
   "source": [
    "commuting_egen"
   ]
  },
  {
   "cell_type": "code",
   "execution_count": 17,
   "metadata": {
    "tags": [],
    "ExecuteTime": {
     "end_time": "2023-06-23T19:16:33.693305232Z",
     "start_time": "2023-06-23T19:16:33.562514559Z"
    }
   },
   "outputs": [
    {
     "name": "stderr",
     "output_type": "stream",
     "text": [
      "100%|██████████| 12/12 [00:00<00:00, 160.74it/s]\n"
     ]
    },
    {
     "data": {
      "text/plain": "{('H', ('X',), (0,)): 0.333333*{H}^{X}_{Gq0} + 0.333333*{H}^{Y}_{Gq0} - 0.333333*{H}^{Z}_{Gq0},\n ('H', ('Y',), (0,)): 0.333333*{H}^{X}_{Gq0} + 0.333333*{H}^{Y}_{Gq0} - 0.333333*{H}^{Z}_{Gq0},\n ('H', ('Z',), (0,)): -0.333333*{H}^{X}_{Gq0} - 0.333333*{H}^{Y}_{Gq0} + 0.333333*{H}^{Z}_{Gq0},\n ('S', ('X',), (0,)): 0.333333*{S}^{X}_{Gq0} + 0.333333*{S}^{Y}_{Gq0} + 0.333333*{S}^{Z}_{Gq0},\n ('C', ('X', 'Y'), (0,)): 0.333333*{C}^{XxY}_{Gq0} - 0.333333*{C}^{XxZ}_{Gq0} - 0.333333*{C}^{YxZ}_{Gq0},\n ('A', ('X', 'Y'), (0,)): 0.333333*{A}^{XxY}_{Gq0} + 0.333333*{A}^{XxZ}_{Gq0} - 0.333333*{A}^{YxZ}_{Gq0},\n ('C', ('X', 'Z'), (0,)): -0.333333*{C}^{XxY}_{Gq0} + 0.333333*{C}^{XxZ}_{Gq0} + 0.333333*{C}^{YxZ}_{Gq0},\n ('A', ('X', 'Z'), (0,)): 0.333333*{A}^{XxY}_{Gq0} + 0.333333*{A}^{XxZ}_{Gq0} - 0.333333*{A}^{YxZ}_{Gq0},\n ('S', ('Y',), (0,)): 0.333333*{S}^{X}_{Gq0} + 0.333333*{S}^{Y}_{Gq0} + 0.333333*{S}^{Z}_{Gq0},\n ('C', ('Y', 'Z'), (0,)): -0.333333*{C}^{XxY}_{Gq0} + 0.333333*{C}^{XxZ}_{Gq0} + 0.333333*{C}^{YxZ}_{Gq0},\n ('A', ('Y', 'Z'), (0,)): -0.333333*{A}^{XxY}_{Gq0} - 0.333333*{A}^{XxZ}_{Gq0} + 0.333333*{A}^{YxZ}_{Gq0},\n ('S', ('Z',), (0,)): 0.333333*{S}^{X}_{Gq0} + 0.333333*{S}^{Y}_{Gq0} + 0.333333*{S}^{Z}_{Gq0}}"
     },
     "execution_count": 17,
     "metadata": {},
     "output_type": "execute_result"
    }
   ],
   "source": [
    "ebasis.extract_rates(commuting_egen)"
   ]
  },
  {
   "cell_type": "code",
   "execution_count": 18,
   "metadata": {
    "ExecuteTime": {
     "end_time": "2023-06-23T19:16:42.068336399Z",
     "start_time": "2023-06-23T19:16:42.010769658Z"
    }
   },
   "outputs": [
    {
     "data": {
      "text/plain": "[{H}^{X}_{Gq0},\n {H}^{Y}_{Gq0},\n {H}^{Z}_{Gq0},\n {S}^{X}_{Gq0},\n {C}^{XxY}_{Gq0},\n {A}^{XxY}_{Gq0},\n {C}^{XxZ}_{Gq0},\n {A}^{XxZ}_{Gq0},\n {S}^{Y}_{Gq0},\n {C}^{YxZ}_{Gq0},\n {A}^{YxZ}_{Gq0},\n {S}^{Z}_{Gq0}]"
     },
     "execution_count": 18,
     "metadata": {},
     "output_type": "execute_result"
    }
   ],
   "source": [
    "ebasis.vec"
   ]
  },
  {
   "cell_type": "code",
   "execution_count": 19,
   "metadata": {
    "tags": [],
    "ExecuteTime": {
     "end_time": "2023-06-23T19:16:43.629844870Z",
     "start_time": "2023-06-23T19:16:43.604043624Z"
    }
   },
   "outputs": [
    {
     "data": {
      "text/plain": "array([[ 0.,  0.,  0.,  0.],\n       [ 0.,  0.,  0.,  0.],\n       [ 0.,  0.,  0., -2.],\n       [ 0.,  0.,  2.,  0.]])"
     },
     "execution_count": 19,
     "metadata": {},
     "output_type": "execute_result"
    }
   ],
   "source": [
    "ebasis.bmat(ebasis.vec[0])"
   ]
  },
  {
   "cell_type": "code",
   "execution_count": null,
   "metadata": {},
   "outputs": [],
   "source": []
  }
 ],
 "metadata": {
  "kernelspec": {
   "display_name": "Python 3 (ipykernel)",
   "language": "python",
   "name": "python3"
  },
  "language_info": {
   "codemirror_mode": {
    "name": "ipython",
    "version": 3
   },
   "file_extension": ".py",
   "mimetype": "text/x-python",
   "name": "python",
   "nbconvert_exporter": "python",
   "pygments_lexer": "ipython3",
   "version": "3.10.11"
  }
 },
 "nbformat": 4,
 "nbformat_minor": 4
}
