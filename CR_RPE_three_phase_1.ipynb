{
 "cells": [
  {
   "cell_type": "code",
   "execution_count": 5,
   "id": "b36d08e2",
   "metadata": {},
   "outputs": [
    {
     "ename": "ValueError",
     "evalue": "numpy.ndarray size changed, may indicate binary incompatibility. Expected 96 from C header, got 88 from PyObject",
     "output_type": "error",
     "traceback": [
      "\u001b[0;31m---------------------------------------------------------------------------\u001b[0m",
      "\u001b[0;31mValueError\u001b[0m                                Traceback (most recent call last)",
      "\u001b[0;32m/tmp/ipykernel_7859/2767268837.py\u001b[0m in \u001b[0;36m<module>\u001b[0;34m\u001b[0m\n\u001b[1;32m      2\u001b[0m \u001b[0;32mfrom\u001b[0m \u001b[0mquapack\u001b[0m\u001b[0;34m.\u001b[0m\u001b[0mpyRPE\u001b[0m\u001b[0;34m.\u001b[0m\u001b[0mquantum\u001b[0m \u001b[0;32mimport\u001b[0m \u001b[0mQ\u001b[0m\u001b[0;34m\u001b[0m\u001b[0;34m\u001b[0m\u001b[0m\n\u001b[1;32m      3\u001b[0m \u001b[0;32mimport\u001b[0m \u001b[0mnumpy\u001b[0m \u001b[0;32mas\u001b[0m \u001b[0mnp\u001b[0m\u001b[0;34m\u001b[0m\u001b[0;34m\u001b[0m\u001b[0m\n\u001b[0;32m----> 4\u001b[0;31m \u001b[0;32mimport\u001b[0m \u001b[0mpygsti\u001b[0m\u001b[0;34m\u001b[0m\u001b[0;34m\u001b[0m\u001b[0m\n\u001b[0m\u001b[1;32m      5\u001b[0m \u001b[0mget_ipython\u001b[0m\u001b[0;34m(\u001b[0m\u001b[0;34m)\u001b[0m\u001b[0;34m.\u001b[0m\u001b[0mrun_line_magic\u001b[0m\u001b[0;34m(\u001b[0m\u001b[0;34m'matplotlib'\u001b[0m\u001b[0;34m,\u001b[0m \u001b[0;34m'inline'\u001b[0m\u001b[0;34m)\u001b[0m\u001b[0;34m\u001b[0m\u001b[0;34m\u001b[0m\u001b[0m\n\u001b[1;32m      6\u001b[0m \u001b[0;32mimport\u001b[0m \u001b[0mmatplotlib\u001b[0m\u001b[0;34m.\u001b[0m\u001b[0mpyplot\u001b[0m \u001b[0;32mas\u001b[0m \u001b[0mplt\u001b[0m\u001b[0;34m\u001b[0m\u001b[0;34m\u001b[0m\u001b[0m\n",
      "\u001b[0;32m~/PycharmProjects/software/venv/pyGSTi/pygsti/__init__.py\u001b[0m in \u001b[0;36m<module>\u001b[0;34m\u001b[0m\n\u001b[1;32m      9\u001b[0m \u001b[0;34m\"\"\" A Python implementation of LinearOperator Set Tomography \"\"\"\u001b[0m\u001b[0;34m\u001b[0m\u001b[0;34m\u001b[0m\u001b[0m\n\u001b[1;32m     10\u001b[0m \u001b[0;34m\u001b[0m\u001b[0m\n\u001b[0;32m---> 11\u001b[0;31m \u001b[0;32mfrom\u001b[0m \u001b[0;34m.\u001b[0m \u001b[0;32mimport\u001b[0m \u001b[0mbaseobjs\u001b[0m\u001b[0;34m\u001b[0m\u001b[0;34m\u001b[0m\u001b[0m\n\u001b[0m\u001b[1;32m     12\u001b[0m \u001b[0;32mfrom\u001b[0m \u001b[0;34m.\u001b[0m \u001b[0;32mimport\u001b[0m \u001b[0malgorithms\u001b[0m \u001b[0;32mas\u001b[0m \u001b[0malg\u001b[0m\u001b[0;34m\u001b[0m\u001b[0;34m\u001b[0m\u001b[0m\n\u001b[1;32m     13\u001b[0m \u001b[0;32mfrom\u001b[0m \u001b[0;34m.\u001b[0m \u001b[0;32mimport\u001b[0m \u001b[0mcircuits\u001b[0m\u001b[0;34m\u001b[0m\u001b[0;34m\u001b[0m\u001b[0m\n",
      "\u001b[0;32m~/PycharmProjects/software/venv/pyGSTi/pygsti/baseobjs/__init__.py\u001b[0m in \u001b[0;36m<module>\u001b[0;34m\u001b[0m\n\u001b[1;32m     22\u001b[0m \u001b[0;32mfrom\u001b[0m \u001b[0;34m.\u001b[0m\u001b[0mresourceallocation\u001b[0m \u001b[0;32mimport\u001b[0m \u001b[0mResourceAllocation\u001b[0m\u001b[0;34m\u001b[0m\u001b[0;34m\u001b[0m\u001b[0m\n\u001b[1;32m     23\u001b[0m \u001b[0;32mfrom\u001b[0m \u001b[0;34m.\u001b[0m\u001b[0mqubitgraph\u001b[0m \u001b[0;32mimport\u001b[0m \u001b[0mQubitGraph\u001b[0m\u001b[0;34m\u001b[0m\u001b[0;34m\u001b[0m\u001b[0m\n\u001b[0;32m---> 24\u001b[0;31m \u001b[0;32mfrom\u001b[0m \u001b[0;34m.\u001b[0m\u001b[0merrorgenbasis\u001b[0m \u001b[0;32mimport\u001b[0m \u001b[0mElementaryErrorgenBasis\u001b[0m\u001b[0;34m,\u001b[0m \u001b[0mExplicitElementaryErrorgenBasis\u001b[0m\u001b[0;34m,\u001b[0m \u001b[0mCompleteElementaryErrorgenBasis\u001b[0m\u001b[0;34m\u001b[0m\u001b[0;34m\u001b[0m\u001b[0m\n\u001b[0m\u001b[1;32m     25\u001b[0m \u001b[0;32mfrom\u001b[0m \u001b[0;34m.\u001b[0m\u001b[0merrorgenspace\u001b[0m \u001b[0;32mimport\u001b[0m \u001b[0mErrorgenSpace\u001b[0m\u001b[0;34m\u001b[0m\u001b[0;34m\u001b[0m\u001b[0m\n\u001b[1;32m     26\u001b[0m \u001b[0;32mfrom\u001b[0m \u001b[0;34m.\u001b[0m\u001b[0munitarygatefunction\u001b[0m \u001b[0;32mimport\u001b[0m \u001b[0mUnitaryGateFunction\u001b[0m\u001b[0;34m\u001b[0m\u001b[0;34m\u001b[0m\u001b[0m\n",
      "\u001b[0;32m~/PycharmProjects/software/venv/pyGSTi/pygsti/baseobjs/errorgenbasis.py\u001b[0m in \u001b[0;36m<module>\u001b[0;34m\u001b[0m\n\u001b[1;32m     17\u001b[0m \u001b[0;32mfrom\u001b[0m \u001b[0mpygsti\u001b[0m\u001b[0;34m.\u001b[0m\u001b[0mbaseobjs\u001b[0m \u001b[0;32mimport\u001b[0m \u001b[0mBasis\u001b[0m \u001b[0;32mas\u001b[0m \u001b[0m_Basis\u001b[0m\u001b[0;34m\u001b[0m\u001b[0;34m\u001b[0m\u001b[0m\n\u001b[1;32m     18\u001b[0m \u001b[0;32mfrom\u001b[0m \u001b[0mpygsti\u001b[0m\u001b[0;34m.\u001b[0m\u001b[0mbaseobjs\u001b[0m\u001b[0;34m.\u001b[0m\u001b[0merrorgenlabel\u001b[0m \u001b[0;32mimport\u001b[0m \u001b[0mGlobalElementaryErrorgenLabel\u001b[0m \u001b[0;32mas\u001b[0m \u001b[0m_GlobalElementaryErrorgenLabel\u001b[0m\u001b[0;34m\u001b[0m\u001b[0;34m\u001b[0m\u001b[0m\n\u001b[0;32m---> 19\u001b[0;31m \u001b[0;32mfrom\u001b[0m \u001b[0mpygsti\u001b[0m\u001b[0;34m.\u001b[0m\u001b[0mtools\u001b[0m \u001b[0;32mimport\u001b[0m \u001b[0moptools\u001b[0m \u001b[0;32mas\u001b[0m \u001b[0m_ot\u001b[0m\u001b[0;34m\u001b[0m\u001b[0;34m\u001b[0m\u001b[0m\n\u001b[0m\u001b[1;32m     20\u001b[0m \u001b[0;34m\u001b[0m\u001b[0m\n\u001b[1;32m     21\u001b[0m \u001b[0;34m\u001b[0m\u001b[0m\n",
      "\u001b[0;32m~/PycharmProjects/software/venv/pyGSTi/pygsti/tools/__init__.py\u001b[0m in \u001b[0;36m<module>\u001b[0;34m\u001b[0m\n\u001b[1;32m     11\u001b[0m \u001b[0;31m#***************************************************************************************************\u001b[0m\u001b[0;34m\u001b[0m\u001b[0;34m\u001b[0m\u001b[0m\n\u001b[1;32m     12\u001b[0m \u001b[0;34m\u001b[0m\u001b[0m\n\u001b[0;32m---> 13\u001b[0;31m \u001b[0;32mfrom\u001b[0m \u001b[0;34m.\u001b[0m\u001b[0mbasistools\u001b[0m \u001b[0;32mimport\u001b[0m \u001b[0;34m*\u001b[0m\u001b[0;34m\u001b[0m\u001b[0;34m\u001b[0m\u001b[0m\n\u001b[0m\u001b[1;32m     14\u001b[0m \u001b[0;32mfrom\u001b[0m \u001b[0;34m.\u001b[0m\u001b[0mchi2fns\u001b[0m \u001b[0;32mimport\u001b[0m \u001b[0;34m*\u001b[0m\u001b[0;34m\u001b[0m\u001b[0;34m\u001b[0m\u001b[0m\n\u001b[1;32m     15\u001b[0m \u001b[0;32mfrom\u001b[0m \u001b[0;34m.\u001b[0m\u001b[0medesigntools\u001b[0m \u001b[0;32mimport\u001b[0m \u001b[0;34m*\u001b[0m\u001b[0;34m\u001b[0m\u001b[0;34m\u001b[0m\u001b[0m\n",
      "\u001b[0;32m~/PycharmProjects/software/venv/pyGSTi/pygsti/tools/basistools.py\u001b[0m in \u001b[0;36m<module>\u001b[0;34m\u001b[0m\n\u001b[1;32m    522\u001b[0m \u001b[0mstdvec_to_stdmx\u001b[0m \u001b[0;34m=\u001b[0m \u001b[0mpartial\u001b[0m\u001b[0;34m(\u001b[0m\u001b[0mvec_to_stdmx\u001b[0m\u001b[0;34m,\u001b[0m \u001b[0mbasis\u001b[0m\u001b[0;34m=\u001b[0m\u001b[0;34m'std'\u001b[0m\u001b[0;34m)\u001b[0m\u001b[0;34m\u001b[0m\u001b[0;34m\u001b[0m\u001b[0m\n\u001b[1;32m    523\u001b[0m \u001b[0;34m\u001b[0m\u001b[0m\n\u001b[0;32m--> 524\u001b[0;31m \u001b[0;32mfrom\u001b[0m \u001b[0;34m.\u001b[0m \u001b[0;32mimport\u001b[0m \u001b[0mmatrixtools\u001b[0m \u001b[0;32mas\u001b[0m \u001b[0m_mt\u001b[0m\u001b[0;34m\u001b[0m\u001b[0;34m\u001b[0m\u001b[0m\n\u001b[0m\u001b[1;32m    525\u001b[0m \u001b[0;34m\u001b[0m\u001b[0m\n\u001b[1;32m    526\u001b[0m \u001b[0;34m\u001b[0m\u001b[0m\n",
      "\u001b[0;32m~/PycharmProjects/software/venv/pyGSTi/pygsti/tools/matrixtools.py\u001b[0m in \u001b[0;36m<module>\u001b[0;34m\u001b[0m\n\u001b[1;32m     24\u001b[0m \u001b[0;34m\u001b[0m\u001b[0m\n\u001b[1;32m     25\u001b[0m \u001b[0;32mtry\u001b[0m\u001b[0;34m:\u001b[0m\u001b[0;34m\u001b[0m\u001b[0;34m\u001b[0m\u001b[0m\n\u001b[0;32m---> 26\u001b[0;31m     \u001b[0;32mfrom\u001b[0m \u001b[0;34m.\u001b[0m \u001b[0;32mimport\u001b[0m \u001b[0mfastcalc\u001b[0m \u001b[0;32mas\u001b[0m \u001b[0m_fastcalc\u001b[0m\u001b[0;34m\u001b[0m\u001b[0;34m\u001b[0m\u001b[0m\n\u001b[0m\u001b[1;32m     27\u001b[0m \u001b[0;32mexcept\u001b[0m \u001b[0mImportError\u001b[0m\u001b[0;34m:\u001b[0m\u001b[0;34m\u001b[0m\u001b[0;34m\u001b[0m\u001b[0m\n\u001b[1;32m     28\u001b[0m     \u001b[0m_fastcalc\u001b[0m \u001b[0;34m=\u001b[0m \u001b[0;32mNone\u001b[0m\u001b[0;34m\u001b[0m\u001b[0;34m\u001b[0m\u001b[0m\n",
      "\u001b[0;32m~/PycharmProjects/software/venv/pyGSTi/pygsti/tools/fastcalc.pyx\u001b[0m in \u001b[0;36minit pygsti.tools.fastcalc\u001b[0;34m()\u001b[0m\n",
      "\u001b[0;31mValueError\u001b[0m: numpy.ndarray size changed, may indicate binary incompatibility. Expected 96 from C header, got 88 from PyObject"
     ]
    }
   ],
   "source": [
    "from quapack.pyRPE import RobustPhaseEstimation\n",
    "from quapack.pyRPE.quantum import Q\n",
    "import numpy as np\n",
    "import pygsti\n",
    "%matplotlib inline\n",
    "import matplotlib.pyplot as plt\n",
    "import scipy\n",
    "from pygsti.modelpacks import smq2Q_XYICPHASE"
   ]
  },
  {
   "cell_type": "code",
   "execution_count": 6,
   "id": "f1495943",
   "metadata": {},
   "outputs": [],
   "source": [
    "exp_line_labels = (0,1)#What are the labels for the qubits we'll be doing RPE on?"
   ]
  },
  {
   "cell_type": "code",
   "execution_count": 7,
   "id": "b8fd3747",
   "metadata": {},
   "outputs": [],
   "source": [
    "state_pair_lookup = {(0,2):{('cos','+'):'01', ('cos','-'):'00',\n",
    "                            ('sin','+'):'00', ('sin','-'):'01'},\n",
    "                     (1,2):{('cos','+'):'00', ('cos','-'):'10',\n",
    "                            ('sin','+'):'00', ('sin','-'):'10'},\n",
    "                     (1,3):{('cos','+'):'11', ('cos','-'):'10',\n",
    "                            ('sin','+'):'00', ('sin','-'):'01'}}"
   ]
  },
  {
   "cell_type": "code",
   "execution_count": 8,
   "id": "3979eb82",
   "metadata": {},
   "outputs": [
    {
     "ename": "NameError",
     "evalue": "name 'pygsti' is not defined",
     "output_type": "error",
     "traceback": [
      "\u001b[0;31m---------------------------------------------------------------------------\u001b[0m",
      "\u001b[0;31mNameError\u001b[0m                                 Traceback (most recent call last)",
      "\u001b[0;32m/tmp/ipykernel_7859/1398426345.py\u001b[0m in \u001b[0;36m<module>\u001b[0;34m\u001b[0m\n\u001b[0;32m----> 1\u001b[0;31m \u001b[0mpygsti\u001b[0m\u001b[0;34m.\u001b[0m\u001b[0mcircuits\u001b[0m\u001b[0;34m.\u001b[0m\u001b[0mCircuit\u001b[0m\u001b[0;34m(\u001b[0m\u001b[0;34m[\u001b[0m\u001b[0;34m[\u001b[0m\u001b[0;34m(\u001b[0m\u001b[0;34m'Gypi2'\u001b[0m\u001b[0;34m,\u001b[0m\u001b[0;36m1\u001b[0m\u001b[0;34m)\u001b[0m\u001b[0;34m]\u001b[0m\u001b[0;34m]\u001b[0m\u001b[0;34m,\u001b[0m\u001b[0mline_labels\u001b[0m\u001b[0;34m=\u001b[0m\u001b[0;34m(\u001b[0m\u001b[0;36m0\u001b[0m\u001b[0;34m,\u001b[0m\u001b[0;36m1\u001b[0m\u001b[0;34m)\u001b[0m\u001b[0;34m)\u001b[0m\u001b[0;34m*\u001b[0m\u001b[0;36m3\u001b[0m\u001b[0;34m+\u001b[0m\u001b[0mpygsti\u001b[0m\u001b[0;34m.\u001b[0m\u001b[0mcircuits\u001b[0m\u001b[0;34m.\u001b[0m\u001b[0mCircuit\u001b[0m\u001b[0;34m(\u001b[0m\u001b[0;34m[\u001b[0m\u001b[0;34m[\u001b[0m\u001b[0;34m(\u001b[0m\u001b[0;34m'Gypi2'\u001b[0m\u001b[0;34m,\u001b[0m\u001b[0;36m0\u001b[0m\u001b[0;34m)\u001b[0m\u001b[0;34m]\u001b[0m\u001b[0;34m]\u001b[0m\u001b[0;34m,\u001b[0m\u001b[0mline_labels\u001b[0m\u001b[0;34m=\u001b[0m\u001b[0;34m(\u001b[0m\u001b[0;36m0\u001b[0m\u001b[0;34m,\u001b[0m\u001b[0;36m1\u001b[0m\u001b[0;34m)\u001b[0m\u001b[0;34m)\u001b[0m\u001b[0;34m\u001b[0m\u001b[0;34m\u001b[0m\u001b[0m\n\u001b[0m",
      "\u001b[0;31mNameError\u001b[0m: name 'pygsti' is not defined"
     ]
    }
   ],
   "source": [
    "pygsti.circuits.Circuit([[('Gypi2',1)]],line_labels=(0,1))*3+pygsti.circuits.Circuit([[('Gypi2',0)]],line_labels=(0,1))"
   ]
  },
  {
   "cell_type": "code",
   "execution_count": 9,
   "id": "93ab0e13",
   "metadata": {},
   "outputs": [],
   "source": [
    "def make_cos_circ(k,state_pair,line_labels=(0,1)):\n",
    "    if state_pair in [(0,2), (2,0)]:  #<01| for (1+cos(1/2 (theta_ix + theta_zx))\n",
    "                                      #<00| for (1-cos(1/2 (theta_ix + theta_zx))\n",
    "        circ = (pygsti.circuits.Circuit([[('Gxpi2',line_labels[1])],\n",
    "                                          ('Gxpi2',line_labels[1])],\n",
    "                                        line_labels=line_labels)+\n",
    "                pygsti.circuits.Circuit([[('Gcr',line_labels[0],line_labels[1])]])*k)\n",
    "    elif state_pair in [(1,2), (2,1)]:#<00| for (1+cos(1/2 (theta_zi - theta_zx))\n",
    "                                      #<10| for (1+cos(1/2 (theta_zi - theta_zx))\n",
    "        circ = (pygsti.circuits.Circuit([[('Gypi2',line_labels[0])]],line_labels=line_labels)+\n",
    "                pygsti.circuits.Circuit([[('Gypi2',line_labels[1])]],line_labels=line_labels)*3+\n",
    "                pygsti.circuits.Circuit([[('Gcr',line_labels[0],line_labels[1])]])*k+\n",
    "                pygsti.circuits.Circuit([[('Gypi2',line_labels[0])]],line_labels=line_labels)*3+\n",
    "                pygsti.circuits.Circuit([[('Gypi2',line_labels[1])]],line_labels=line_labels))\n",
    "    elif state_pair in [(1,3), (3,1)]:#<11| for (1+cos(1/2 (theta_ix - theta_zx))\n",
    "                                      #<10| for (1-cos(1/2 (theta_ix - theta_zx))\n",
    "        circ = (pygsti.circuits.Circuit([[('Gxpi2',line_labels[0])]],line_labels=line_labels)*2+\n",
    "                pygsti.circuits.Circuit([[('Gxpi2',line_labels[1])]],line_labels=line_labels)*2+\n",
    "                pygsti.circuits.Circuit([[('Gcr',line_labels[0],line_labels[1])]])*k)\n",
    "    else:\n",
    "        assert False, \"state_pair must be in [(0,2), (2,0), (1,2), (2,1), (1,3), (3,1)]\"\n",
    "    return circ\n",
    "\n",
    "    \n",
    "def make_sin_circ(k,state_pair,line_labels=(0,1)):\n",
    "    if state_pair in [(0,2), (2,0)]:  #<00| for (1+sin(1/2 (theta_ix + theta_zx))\n",
    "                                      #<01| for (1+sin(1/2 (theta_ix - theta_zx))\n",
    "        circ = (pygsti.circuits.Circuit([[('Gxpi2',line_labels[1])],\n",
    "                                          ('Gxpi2',line_labels[1])],\n",
    "                                        line_labels=line_labels)+\n",
    "                pygsti.circuits.Circuit([[('Gcr',line_labels[0],line_labels[1])]])*k+\n",
    "                pygsti.circuits.Circuit([[('Gxpi2',line_labels[1])]]))\n",
    "    elif state_pair in [(1,2),(2,1)]:#<00| for (1+sin(1/2 (theta_zi - theta_zx))\n",
    "                                     #<10| for (1+sin(1/2 (theta_zi - theta_zx))\n",
    "        circ = (pygsti.circuits.Circuit([[('Gypi2',line_labels[0])]],line_labels=line_labels)+\n",
    "                pygsti.circuits.Circuit([[('Gypi2',line_labels[1])]],line_labels=line_labels)*3+\n",
    "                pygsti.circuits.Circuit([[('Gcr',line_labels[0],line_labels[1])]])*k+\n",
    "                pygsti.circuits.Circuit([[('Gxpi2',line_labels[0])],\n",
    "                                         [('Gypi2',line_labels[1])]]))\n",
    "    elif state_pair in [(1,3), (3,1)]:#<0-| for (1+sin(1/2 (theta_ix - theta_zx))\n",
    "                                      #<01| for (1-sin(1/2 (theta_ix - theta_zx))\n",
    "        circ = (pygsti.circuits.Circuit([[('Gxpi2',line_labels[0])]],line_labels=line_labels)*2+\n",
    "                pygsti.circuits.Circuit([[('Gxpi2',line_labels[1])]],line_labels=line_labels)*2+\n",
    "                pygsti.circuits.Circuit([[('Gcr',line_labels[0],line_labels[1])]])*k+\n",
    "                pygsti.circuits.Circuit([[('Gxpi2',line_labels[0])]])*2+\n",
    "                pygsti.circuits.Circuit([[('Gxpi2',line_labels[1])]]))\n",
    "    else:\n",
    "        assert False, \"state_pair must be in [(0,2), (2,0), (1,2), (2,1), (1,3), (3,1)]\"\n",
    "    return circ\n"
   ]
  },
  {
   "cell_type": "code",
   "execution_count": 10,
   "id": "b9e9ce77",
   "metadata": {},
   "outputs": [],
   "source": [
    "#Make the unitary cross-resonance gate.  Target angle is (0,0,pi/2).\n",
    "def CR(theta_ix,theta_zi,theta_zx):\n",
    "    return scipy.linalg.expm(-1j/2 * (theta_ix * pygsti.sigmaix + theta_zi * pygsti.sigmazi + theta_zx * pygsti.sigmazx))"
   ]
  },
  {
   "cell_type": "code",
   "execution_count": 11,
   "id": "7b6c146e",
   "metadata": {},
   "outputs": [],
   "source": [
    "def rectify_angle(theta):\n",
    "    if theta > np.pi:\n",
    "        theta -= 2*np.pi\n",
    "    return theta"
   ]
  },
  {
   "cell_type": "code",
   "execution_count": 12,
   "id": "6774ac48",
   "metadata": {},
   "outputs": [],
   "source": [
    "max_depths = [1,2,4,8,16,32]\n",
    "#Can go shallower or deeper; chose 32 somewhat arbitrarily for this demo.  \n",
    "#The deeper we can go, the better (up to depolarization)."
   ]
  },
  {
   "cell_type": "code",
   "execution_count": 13,
   "id": "dc88432d",
   "metadata": {},
   "outputs": [],
   "source": [
    "state_pairs = [(0,2), (1,2), (1,3)]"
   ]
  },
  {
   "cell_type": "code",
   "execution_count": 14,
   "id": "af9127c4",
   "metadata": {},
   "outputs": [
    {
     "ename": "NameError",
     "evalue": "name 'pygsti' is not defined",
     "output_type": "error",
     "traceback": [
      "\u001b[0;31m---------------------------------------------------------------------------\u001b[0m",
      "\u001b[0;31mNameError\u001b[0m                                 Traceback (most recent call last)",
      "\u001b[0;32m/tmp/ipykernel_7859/4057655594.py\u001b[0m in \u001b[0;36m<module>\u001b[0;34m\u001b[0m\n\u001b[0;32m----> 1\u001b[0;31m \u001b[0msin_dict\u001b[0m \u001b[0;34m=\u001b[0m \u001b[0;34m{\u001b[0m\u001b[0mstate_pair\u001b[0m\u001b[0;34m:\u001b[0m \u001b[0;34m{\u001b[0m\u001b[0mi\u001b[0m\u001b[0;34m:\u001b[0m \u001b[0mmake_sin_circ\u001b[0m\u001b[0;34m(\u001b[0m\u001b[0mi\u001b[0m\u001b[0;34m,\u001b[0m\u001b[0mstate_pair\u001b[0m\u001b[0;34m,\u001b[0m\u001b[0mexp_line_labels\u001b[0m\u001b[0;34m)\u001b[0m \u001b[0;32mfor\u001b[0m \u001b[0mi\u001b[0m \u001b[0;32min\u001b[0m \u001b[0mmax_depths\u001b[0m\u001b[0;34m}\u001b[0m \u001b[0;32mfor\u001b[0m \u001b[0mstate_pair\u001b[0m \u001b[0;32min\u001b[0m \u001b[0mstate_pairs\u001b[0m\u001b[0;34m}\u001b[0m\u001b[0;34m\u001b[0m\u001b[0;34m\u001b[0m\u001b[0m\n\u001b[0m\u001b[1;32m      2\u001b[0m \u001b[0mcos_dict\u001b[0m \u001b[0;34m=\u001b[0m \u001b[0;34m{\u001b[0m\u001b[0mstate_pair\u001b[0m\u001b[0;34m:\u001b[0m \u001b[0;34m{\u001b[0m\u001b[0mi\u001b[0m\u001b[0;34m:\u001b[0m \u001b[0mmake_cos_circ\u001b[0m\u001b[0;34m(\u001b[0m\u001b[0mi\u001b[0m\u001b[0;34m,\u001b[0m\u001b[0mstate_pair\u001b[0m\u001b[0;34m,\u001b[0m\u001b[0mexp_line_labels\u001b[0m\u001b[0;34m)\u001b[0m \u001b[0;32mfor\u001b[0m \u001b[0mi\u001b[0m \u001b[0;32min\u001b[0m \u001b[0mmax_depths\u001b[0m\u001b[0;34m}\u001b[0m \u001b[0;32mfor\u001b[0m \u001b[0mstate_pair\u001b[0m \u001b[0;32min\u001b[0m \u001b[0mstate_pairs\u001b[0m\u001b[0;34m}\u001b[0m\u001b[0;34m\u001b[0m\u001b[0;34m\u001b[0m\u001b[0m\n\u001b[1;32m      3\u001b[0m \u001b[0;34m\u001b[0m\u001b[0m\n\u001b[1;32m      4\u001b[0m \u001b[0mcirc_dict\u001b[0m \u001b[0;34m=\u001b[0m \u001b[0;34m{\u001b[0m\u001b[0;34m'sin'\u001b[0m\u001b[0;34m:\u001b[0m\u001b[0msin_dict\u001b[0m\u001b[0;34m,\u001b[0m\u001b[0;34m'cos'\u001b[0m\u001b[0;34m:\u001b[0m\u001b[0mcos_dict\u001b[0m\u001b[0;34m}\u001b[0m\u001b[0;34m\u001b[0m\u001b[0;34m\u001b[0m\u001b[0m\n\u001b[1;32m      5\u001b[0m \u001b[0;34m\u001b[0m\u001b[0m\n",
      "\u001b[0;32m/tmp/ipykernel_7859/4057655594.py\u001b[0m in \u001b[0;36m<dictcomp>\u001b[0;34m(.0)\u001b[0m\n\u001b[0;32m----> 1\u001b[0;31m \u001b[0msin_dict\u001b[0m \u001b[0;34m=\u001b[0m \u001b[0;34m{\u001b[0m\u001b[0mstate_pair\u001b[0m\u001b[0;34m:\u001b[0m \u001b[0;34m{\u001b[0m\u001b[0mi\u001b[0m\u001b[0;34m:\u001b[0m \u001b[0mmake_sin_circ\u001b[0m\u001b[0;34m(\u001b[0m\u001b[0mi\u001b[0m\u001b[0;34m,\u001b[0m\u001b[0mstate_pair\u001b[0m\u001b[0;34m,\u001b[0m\u001b[0mexp_line_labels\u001b[0m\u001b[0;34m)\u001b[0m \u001b[0;32mfor\u001b[0m \u001b[0mi\u001b[0m \u001b[0;32min\u001b[0m \u001b[0mmax_depths\u001b[0m\u001b[0;34m}\u001b[0m \u001b[0;32mfor\u001b[0m \u001b[0mstate_pair\u001b[0m \u001b[0;32min\u001b[0m \u001b[0mstate_pairs\u001b[0m\u001b[0;34m}\u001b[0m\u001b[0;34m\u001b[0m\u001b[0;34m\u001b[0m\u001b[0m\n\u001b[0m\u001b[1;32m      2\u001b[0m \u001b[0mcos_dict\u001b[0m \u001b[0;34m=\u001b[0m \u001b[0;34m{\u001b[0m\u001b[0mstate_pair\u001b[0m\u001b[0;34m:\u001b[0m \u001b[0;34m{\u001b[0m\u001b[0mi\u001b[0m\u001b[0;34m:\u001b[0m \u001b[0mmake_cos_circ\u001b[0m\u001b[0;34m(\u001b[0m\u001b[0mi\u001b[0m\u001b[0;34m,\u001b[0m\u001b[0mstate_pair\u001b[0m\u001b[0;34m,\u001b[0m\u001b[0mexp_line_labels\u001b[0m\u001b[0;34m)\u001b[0m \u001b[0;32mfor\u001b[0m \u001b[0mi\u001b[0m \u001b[0;32min\u001b[0m \u001b[0mmax_depths\u001b[0m\u001b[0;34m}\u001b[0m \u001b[0;32mfor\u001b[0m \u001b[0mstate_pair\u001b[0m \u001b[0;32min\u001b[0m \u001b[0mstate_pairs\u001b[0m\u001b[0;34m}\u001b[0m\u001b[0;34m\u001b[0m\u001b[0;34m\u001b[0m\u001b[0m\n\u001b[1;32m      3\u001b[0m \u001b[0;34m\u001b[0m\u001b[0m\n\u001b[1;32m      4\u001b[0m \u001b[0mcirc_dict\u001b[0m \u001b[0;34m=\u001b[0m \u001b[0;34m{\u001b[0m\u001b[0;34m'sin'\u001b[0m\u001b[0;34m:\u001b[0m\u001b[0msin_dict\u001b[0m\u001b[0;34m,\u001b[0m\u001b[0;34m'cos'\u001b[0m\u001b[0;34m:\u001b[0m\u001b[0mcos_dict\u001b[0m\u001b[0;34m}\u001b[0m\u001b[0;34m\u001b[0m\u001b[0;34m\u001b[0m\u001b[0m\n\u001b[1;32m      5\u001b[0m \u001b[0;34m\u001b[0m\u001b[0m\n",
      "\u001b[0;32m/tmp/ipykernel_7859/4057655594.py\u001b[0m in \u001b[0;36m<dictcomp>\u001b[0;34m(.0)\u001b[0m\n\u001b[0;32m----> 1\u001b[0;31m \u001b[0msin_dict\u001b[0m \u001b[0;34m=\u001b[0m \u001b[0;34m{\u001b[0m\u001b[0mstate_pair\u001b[0m\u001b[0;34m:\u001b[0m \u001b[0;34m{\u001b[0m\u001b[0mi\u001b[0m\u001b[0;34m:\u001b[0m \u001b[0mmake_sin_circ\u001b[0m\u001b[0;34m(\u001b[0m\u001b[0mi\u001b[0m\u001b[0;34m,\u001b[0m\u001b[0mstate_pair\u001b[0m\u001b[0;34m,\u001b[0m\u001b[0mexp_line_labels\u001b[0m\u001b[0;34m)\u001b[0m \u001b[0;32mfor\u001b[0m \u001b[0mi\u001b[0m \u001b[0;32min\u001b[0m \u001b[0mmax_depths\u001b[0m\u001b[0;34m}\u001b[0m \u001b[0;32mfor\u001b[0m \u001b[0mstate_pair\u001b[0m \u001b[0;32min\u001b[0m \u001b[0mstate_pairs\u001b[0m\u001b[0;34m}\u001b[0m\u001b[0;34m\u001b[0m\u001b[0;34m\u001b[0m\u001b[0m\n\u001b[0m\u001b[1;32m      2\u001b[0m \u001b[0mcos_dict\u001b[0m \u001b[0;34m=\u001b[0m \u001b[0;34m{\u001b[0m\u001b[0mstate_pair\u001b[0m\u001b[0;34m:\u001b[0m \u001b[0;34m{\u001b[0m\u001b[0mi\u001b[0m\u001b[0;34m:\u001b[0m \u001b[0mmake_cos_circ\u001b[0m\u001b[0;34m(\u001b[0m\u001b[0mi\u001b[0m\u001b[0;34m,\u001b[0m\u001b[0mstate_pair\u001b[0m\u001b[0;34m,\u001b[0m\u001b[0mexp_line_labels\u001b[0m\u001b[0;34m)\u001b[0m \u001b[0;32mfor\u001b[0m \u001b[0mi\u001b[0m \u001b[0;32min\u001b[0m \u001b[0mmax_depths\u001b[0m\u001b[0;34m}\u001b[0m \u001b[0;32mfor\u001b[0m \u001b[0mstate_pair\u001b[0m \u001b[0;32min\u001b[0m \u001b[0mstate_pairs\u001b[0m\u001b[0;34m}\u001b[0m\u001b[0;34m\u001b[0m\u001b[0;34m\u001b[0m\u001b[0m\n\u001b[1;32m      3\u001b[0m \u001b[0;34m\u001b[0m\u001b[0m\n\u001b[1;32m      4\u001b[0m \u001b[0mcirc_dict\u001b[0m \u001b[0;34m=\u001b[0m \u001b[0;34m{\u001b[0m\u001b[0;34m'sin'\u001b[0m\u001b[0;34m:\u001b[0m\u001b[0msin_dict\u001b[0m\u001b[0;34m,\u001b[0m\u001b[0;34m'cos'\u001b[0m\u001b[0;34m:\u001b[0m\u001b[0mcos_dict\u001b[0m\u001b[0;34m}\u001b[0m\u001b[0;34m\u001b[0m\u001b[0;34m\u001b[0m\u001b[0m\n\u001b[1;32m      5\u001b[0m \u001b[0;34m\u001b[0m\u001b[0m\n",
      "\u001b[0;32m/tmp/ipykernel_7859/905182757.py\u001b[0m in \u001b[0;36mmake_sin_circ\u001b[0;34m(k, state_pair, line_labels)\u001b[0m\n\u001b[1;32m     26\u001b[0m     \u001b[0;32mif\u001b[0m \u001b[0mstate_pair\u001b[0m \u001b[0;32min\u001b[0m \u001b[0;34m[\u001b[0m\u001b[0;34m(\u001b[0m\u001b[0;36m0\u001b[0m\u001b[0;34m,\u001b[0m\u001b[0;36m2\u001b[0m\u001b[0;34m)\u001b[0m\u001b[0;34m,\u001b[0m \u001b[0;34m(\u001b[0m\u001b[0;36m2\u001b[0m\u001b[0;34m,\u001b[0m\u001b[0;36m0\u001b[0m\u001b[0;34m)\u001b[0m\u001b[0;34m]\u001b[0m\u001b[0;34m:\u001b[0m  \u001b[0;31m#<00| for (1+sin(1/2 (theta_ix + theta_zx))\u001b[0m\u001b[0;34m\u001b[0m\u001b[0;34m\u001b[0m\u001b[0m\n\u001b[1;32m     27\u001b[0m                                       \u001b[0;31m#<01| for (1+sin(1/2 (theta_ix - theta_zx))\u001b[0m\u001b[0;34m\u001b[0m\u001b[0;34m\u001b[0m\u001b[0m\n\u001b[0;32m---> 28\u001b[0;31m         circ = (pygsti.circuits.Circuit([[('Gxpi2',line_labels[1])],\n\u001b[0m\u001b[1;32m     29\u001b[0m                                           ('Gxpi2',line_labels[1])],\n\u001b[1;32m     30\u001b[0m                                         line_labels=line_labels)+\n",
      "\u001b[0;31mNameError\u001b[0m: name 'pygsti' is not defined"
     ]
    }
   ],
   "source": [
    "sin_dict = {state_pair: {i: make_sin_circ(i,state_pair,exp_line_labels) for i in max_depths} for state_pair in state_pairs}\n",
    "cos_dict = {state_pair: {i: make_cos_circ(i,state_pair,exp_line_labels) for i in max_depths} for state_pair in state_pairs}\n",
    "\n",
    "circ_dict = {'sin':sin_dict,'cos':cos_dict}\n",
    "\n",
    "all_circs = []\n",
    "for trig_dict in [sin_dict,cos_dict]:\n",
    "    for state_pair in state_pairs:\n",
    "        all_circs += list(trig_dict[state_pair].values())\n",
    "\n",
    "all_circs = pygsti.remove_duplicates(all_circs)"
   ]
  },
  {
   "cell_type": "code",
   "execution_count": 15,
   "id": "74842d1e",
   "metadata": {},
   "outputs": [
    {
     "ename": "NameError",
     "evalue": "name 'smq2Q_XYICPHASE' is not defined",
     "output_type": "error",
     "traceback": [
      "\u001b[0;31m---------------------------------------------------------------------------\u001b[0m",
      "\u001b[0;31mNameError\u001b[0m                                 Traceback (most recent call last)",
      "\u001b[0;32m/tmp/ipykernel_7859/296776919.py\u001b[0m in \u001b[0;36m<module>\u001b[0;34m\u001b[0m\n\u001b[0;32m----> 1\u001b[0;31m \u001b[0mtarget_model\u001b[0m \u001b[0;34m=\u001b[0m \u001b[0msmq2Q_XYICPHASE\u001b[0m\u001b[0;34m.\u001b[0m\u001b[0mtarget_model\u001b[0m\u001b[0;34m(\u001b[0m\u001b[0mqubit_labels\u001b[0m\u001b[0;34m=\u001b[0m\u001b[0mexp_line_labels\u001b[0m\u001b[0;34m)\u001b[0m\u001b[0;34m\u001b[0m\u001b[0;34m\u001b[0m\u001b[0m\n\u001b[0m",
      "\u001b[0;31mNameError\u001b[0m: name 'smq2Q_XYICPHASE' is not defined"
     ]
    }
   ],
   "source": [
    "target_model = smq2Q_XYICPHASE.target_model(qubit_labels=exp_line_labels)"
   ]
  },
  {
   "cell_type": "code",
   "execution_count": 16,
   "id": "8a023466",
   "metadata": {},
   "outputs": [
    {
     "ename": "NameError",
     "evalue": "name 'pygsti' is not defined",
     "output_type": "error",
     "traceback": [
      "\u001b[0;31m---------------------------------------------------------------------------\u001b[0m",
      "\u001b[0;31mNameError\u001b[0m                                 Traceback (most recent call last)",
      "\u001b[0;32m/tmp/ipykernel_7859/583769173.py\u001b[0m in \u001b[0;36m<module>\u001b[0;34m\u001b[0m\n\u001b[0;32m----> 1\u001b[0;31m \u001b[0mtarget_model\u001b[0m\u001b[0;34m[\u001b[0m\u001b[0;34m'Gcr'\u001b[0m\u001b[0;34m,\u001b[0m\u001b[0;36m0\u001b[0m\u001b[0;34m,\u001b[0m\u001b[0;36m1\u001b[0m\u001b[0;34m]\u001b[0m \u001b[0;34m=\u001b[0m \u001b[0mpygsti\u001b[0m\u001b[0;34m.\u001b[0m\u001b[0munitary_to_pauligate\u001b[0m\u001b[0;34m(\u001b[0m\u001b[0mCR\u001b[0m\u001b[0;34m(\u001b[0m\u001b[0;36m0\u001b[0m\u001b[0;34m,\u001b[0m\u001b[0;36m0\u001b[0m\u001b[0;34m,\u001b[0m\u001b[0mnp\u001b[0m\u001b[0;34m.\u001b[0m\u001b[0mpi\u001b[0m\u001b[0;34m/\u001b[0m\u001b[0;36m2\u001b[0m\u001b[0;34m)\u001b[0m\u001b[0;34m)\u001b[0m\u001b[0;34m\u001b[0m\u001b[0;34m\u001b[0m\u001b[0m\n\u001b[0m",
      "\u001b[0;31mNameError\u001b[0m: name 'pygsti' is not defined"
     ]
    }
   ],
   "source": [
    "target_model['Gcr',0,1] = pygsti.unitary_to_pauligate(CR(0,0,np.pi/2))"
   ]
  },
  {
   "cell_type": "code",
   "execution_count": 17,
   "id": "648b7cb1",
   "metadata": {},
   "outputs": [],
   "source": [
    "target_theta_ix = 0\n",
    "target_theta_zi = 0\n",
    "target_theta_zx = np.pi/2"
   ]
  },
  {
   "cell_type": "code",
   "execution_count": 14,
   "id": "b13bd7fe",
   "metadata": {},
   "outputs": [],
   "source": [
    "#Define the rotation angles used for the simulated dataset.\n",
    "#Injecting noise via the delta_theta terms as a sanity check.\n",
    "#To emulate perfect behavior, set these three terms to 0.\n",
    "delta_theta_ix =  0.1\n",
    "delta_theta_zi = -0.2\n",
    "delta_theta_zx =  0.3\n",
    "\n",
    "theta_ix = target_theta_ix + delta_theta_ix\n",
    "theta_zi = target_theta_zi + delta_theta_zi\n",
    "theta_zx = target_theta_zx + delta_theta_zx\n",
    "\n",
    "noisy_model = target_model.copy()\n",
    "noisy_model['Gcr',exp_line_labels[0],exp_line_labels[1]] = pygsti.unitary_to_pauligate(\n",
    "    CR( theta_ix,\n",
    "        theta_zi,\n",
    "        theta_zx))"
   ]
  },
  {
   "cell_type": "code",
   "execution_count": 15,
   "id": "fc198f5d",
   "metadata": {},
   "outputs": [
    {
     "name": "stdout",
     "output_type": "stream",
     "text": [
      "(0,2):(theta_ix+theta_zx)=1.9707963267948967\n",
      "(1,2):(theta_zi-theta_zx)=-2.0707963267948966\n",
      "(1,3):(theta_ix-theta_zx)=-1.7707963267948965\n"
     ]
    }
   ],
   "source": [
    "#What are the linear combinations of phases we'll be reconstructing?\n",
    "print(f'(0,2):(theta_ix+theta_zx)={(theta_ix+theta_zx)}')#(0,2)\n",
    "print(f'(1,2):(theta_zi-theta_zx)={(theta_zi-theta_zx)}')#(1,2)\n",
    "print(f'(1,3):(theta_ix-theta_zx)={(theta_ix-theta_zx)}')#(1,3)"
   ]
  },
  {
   "cell_type": "code",
   "execution_count": 16,
   "id": "719b8def",
   "metadata": {},
   "outputs": [
    {
     "name": "stderr",
     "output_type": "stream",
     "text": [
      "/Users/kmrudin/pyGSTi-0.9.10-develop/pygsti/layouts/evaltree.py:183: UserWarning: Created an evaluation tree that is inefficient: tree-size > 3 * #circuits !\n",
      "This is likely due to the fact that the circuits being simulated do not have a\n",
      "periodic structure. Consider using a different forward simulator (e.g. MapForwardSimulator).\n",
      "  _warnings.warn((\"Created an evaluation tree that is inefficient: tree-size > %d * #circuits !\\n\"\n"
     ]
    }
   ],
   "source": [
    "#Make an RPE dataset with the noisy model\n",
    "N = 100#Number of repetitions per circuit\n",
    "dataset_0 = pygsti.data.simulate_data(noisy_model,all_circs,N)"
   ]
  },
  {
   "cell_type": "code",
   "execution_count": 17,
   "id": "60237ad1",
   "metadata": {},
   "outputs": [],
   "source": [
    "pygsti.io.write_dataset('dataset_cr_three_phase_demo-1.txt',dataset_0)"
   ]
  },
  {
   "cell_type": "code",
   "execution_count": 18,
   "id": "1b3cd9cc",
   "metadata": {},
   "outputs": [
    {
     "name": "stdout",
     "output_type": "stream",
     "text": [
      "Reading dataset_cr_three_phase_demo-1.txt: 100%\n"
     ]
    }
   ],
   "source": [
    "dataset_1 = pygsti.io.read_dataset('dataset_cr_three_phase_demo-1.txt')"
   ]
  },
  {
   "cell_type": "code",
   "execution_count": 19,
   "id": "ac1a9edc",
   "metadata": {},
   "outputs": [],
   "source": [
    "#Post-process the RPE data from the pyGSTi dataset\n",
    "the_experiments = {}\n",
    "for state_pair in state_pairs:\n",
    "    the_experiments[state_pair] = Q()\n",
    "\n",
    "for state_pair in state_pairs:\n",
    "    cos_plus = state_pair_lookup[state_pair]['cos','+']\n",
    "    cos_minus = state_pair_lookup[state_pair]['cos','-']\n",
    "    sin_plus = state_pair_lookup[state_pair]['sin','+']\n",
    "    sin_minus = state_pair_lookup[state_pair]['sin','-']\n",
    "    for i in max_depths:\n",
    "        the_experiments[state_pair].process_sin(i,(int(dataset_0[sin_dict[state_pair][i]][sin_plus]),\n",
    "                                                   int(dataset_0[sin_dict[state_pair][i]][sin_minus])))\n",
    "        the_experiments[state_pair].process_cos(i,(int(dataset_0[cos_dict[state_pair][i]][cos_plus]),\n",
    "                                                   int(dataset_0[cos_dict[state_pair][i]][cos_minus])))"
   ]
  },
  {
   "cell_type": "code",
   "execution_count": null,
   "id": "588984b8",
   "metadata": {},
   "outputs": [],
   "source": []
  },
  {
   "cell_type": "code",
   "execution_count": 20,
   "id": "a7aba220",
   "metadata": {},
   "outputs": [],
   "source": [
    "analyses = {}"
   ]
  },
  {
   "cell_type": "code",
   "execution_count": 21,
   "id": "db2564a5",
   "metadata": {},
   "outputs": [],
   "source": [
    "for state_pair in state_pairs:\n",
    "    analyses[state_pair] = RobustPhaseEstimation(the_experiments[state_pair])\n",
    "#    if state_pair in [(1,2),(1,3)]:\n",
    "#        analyses[state_pair].angle_estimates = [rectify_angle(theta) for theta in analyses[state_pair].angle_estimates]#rectify_angle(analyses[state_pair].angle_estimates)\n",
    "#"
   ]
  },
  {
   "cell_type": "code",
   "execution_count": 22,
   "id": "64997e5d",
   "metadata": {},
   "outputs": [
    {
     "name": "stdout",
     "output_type": "stream",
     "text": [
      "Last good generation is generation 5 (depth L=32)\n"
     ]
    }
   ],
   "source": [
    "#Extract the last \"trusted\" RPE angle estimate.  This is the quantity that will get fed to the optimizer.\n",
    "#Have to do this step (for now) prior to shifting angle into correct principle range.\n",
    "\n",
    "last_good_estimate_generations = {}\n",
    "\n",
    "for state_pair in state_pairs:\n",
    "    last_good_estimate_generations[state_pair] = analyses[(state_pair)].check_unif_local(historical=True)\n",
    "\n",
    "last_good_estimate_generation = min(list(last_good_estimate_generations.values()))\n",
    "\n",
    "print(f'Last good generation is generation {last_good_estimate_generation} (depth L={2**last_good_estimate_generation})')\n"
   ]
  },
  {
   "cell_type": "code",
   "execution_count": 23,
   "id": "253b41dc",
   "metadata": {},
   "outputs": [],
   "source": [
    "#Now shift angles into correct principle range.\n",
    "for state_pair in state_pairs:\n",
    "    if state_pair in [(1,2),(1,3)]:#If you're getting funny results for your (0,2) pair estimate, try including (0,2) here as well.\n",
    "        analyses[state_pair].angle_estimates = [rectify_angle(theta) for theta in analyses[state_pair].angle_estimates]#rectify_angle(analyses[state_pair].angle_estimates)\n"
   ]
  },
  {
   "cell_type": "code",
   "execution_count": 24,
   "id": "edccb825",
   "metadata": {},
   "outputs": [
    {
     "name": "stdout",
     "output_type": "stream",
     "text": [
      "(0,2):(theta_ix+theta_zx)=1.9707963267948967\n",
      "(1,2):(theta_zi-theta_zx)=-2.0707963267948966\n",
      "(1,3):(theta_ix-theta_zx)=-1.7707963267948965\n"
     ]
    }
   ],
   "source": [
    "#Reminder of the targets for the linear combinations of the phases we'll be reconstructing.\n",
    "#(Can't know these without actually knowing true phases.)\n",
    "print(f'(0,2):(theta_ix+theta_zx)={(theta_ix+theta_zx)}')#(0,2)\n",
    "print(f'(1,2):(theta_zi-theta_zx)={(theta_zi-theta_zx)}')#(1,2)\n",
    "print(f'(1,3):(theta_ix-theta_zx)={(theta_ix-theta_zx)}')#(1,3)"
   ]
  },
  {
   "cell_type": "code",
   "execution_count": 25,
   "id": "41cfc9d7",
   "metadata": {},
   "outputs": [
    {
     "name": "stdout",
     "output_type": "stream",
     "text": [
      "(0, 2)\n",
      "[1.91382027 1.98586852 1.93363818 1.97098643 1.97341136 1.97210247]\n",
      "\n",
      "(1, 2)\n",
      "[-2.0061496019471985, -2.0516127573619585, -2.0633742819934646, -2.0767481374908145, -2.0705387448310617, -2.072881762364257]\n",
      "\n",
      "(1, 3)\n",
      "[-1.843805029881607, -1.7252616987567677, -1.793365102326817, -1.7746368870344096, -1.7708913773393347, -1.7745066482917862]\n",
      "\n"
     ]
    }
   ],
   "source": [
    "#What linear comibnations of phases did we reconstruct?\n",
    "for state_pair in state_pairs:\n",
    "    print(state_pair)\n",
    "    print(analyses[state_pair].angle_estimates)\n",
    "    print()"
   ]
  },
  {
   "cell_type": "code",
   "execution_count": 26,
   "id": "c25d9a95",
   "metadata": {},
   "outputs": [],
   "source": [
    "#Turn lin. comb. estimates into direct phase estimates.\n",
    "theta_ix_estimates = 0.5 * (np.array(analyses[(0,2)].angle_estimates) + np.array(analyses[(1,3)].angle_estimates))\n",
    "theta_zx_estimates = 0.5 * (np.array(analyses[(0,2)].angle_estimates) - np.array(analyses[(1,3)].angle_estimates))\n",
    "theta_zi_estimates = np.array(analyses[(1,2)].angle_estimates)+theta_zx_estimates"
   ]
  },
  {
   "cell_type": "code",
   "execution_count": 27,
   "id": "20d5d7e7",
   "metadata": {},
   "outputs": [
    {
     "data": {
      "text/plain": [
       "(0.0005, 0.09979942262683393)"
      ]
     },
     "execution_count": 27,
     "metadata": {},
     "output_type": "execute_result"
    },
    {
     "data": {
      "image/png": "[encoded data removed]",
      "text/plain": [
       "<Figure size 432x288 with 1 Axes>"
      ]
     },
     "metadata": {
      "needs_background": "light"
     },
     "output_type": "display_data"
    }
   ],
   "source": [
    "#Can plot accuracy of estimates when truth is known.  (Can't do this for experimental data.)\n",
    "plt.plot(max_depths,np.abs(theta_ix - theta_ix_estimates),'.',label=r'$\\theta_{ix}$')\n",
    "plt.plot(max_depths,np.abs(theta_zx - theta_zx_estimates),'.',label=r'$\\theta_{zx}$')\n",
    "plt.plot(max_depths,np.abs(theta_zi - theta_zi_estimates),'.',label=r'$\\theta_{zi}$')\n",
    "plt.xscale('log')\n",
    "plt.yscale('log')\n",
    "plt.xlabel('Circuit depth')\n",
    "plt.ylabel('Angle estimate error')\n",
    "plt.legend()\n",
    "plt.ylim(bottom=5e-4)"
   ]
  },
  {
   "cell_type": "code",
   "execution_count": 28,
   "id": "0527eb10",
   "metadata": {},
   "outputs": [
    {
     "name": "stdout",
     "output_type": "stream",
     "text": [
      "[1.91382027 1.98586852 1.93363818 1.97098643 1.97341136 1.97210247]\n",
      "[-2.0061496019471985, -2.0516127573619585, -2.0633742819934646, -2.0767481374908145, -2.0705387448310617, -2.072881762364257]\n",
      "[-1.843805029881607, -1.7252616987567677, -1.793365102326817, -1.7746368870344096, -1.7708913773393347, -1.7745066482917862]\n"
     ]
    }
   ],
   "source": [
    "print(analyses[(0,2)].angle_estimates)\n",
    "print(analyses[(1,2)].angle_estimates)\n",
    "print(analyses[(1,3)].angle_estimates)"
   ]
  },
  {
   "cell_type": "code",
   "execution_count": 29,
   "id": "f439f31a",
   "metadata": {},
   "outputs": [
    {
     "name": "stdout",
     "output_type": "stream",
     "text": [
      "theta_ix : [0.03500762 0.13030341 0.07013654 0.09817477 0.10125999 0.09879791]\n",
      "theta_zx : [1.87881265 1.85556511 1.86350164 1.87281166 1.87215137 1.87330456]\n",
      "theta_zi : [-0.12733695 -0.19604765 -0.19987264 -0.20393648 -0.19838737 -0.1995772 ]\n"
     ]
    }
   ],
   "source": [
    "#What are the actual phase estimates (in radians) for all depths?\n",
    "print(f'theta_ix : {theta_ix_estimates}')\n",
    "print(f'theta_zx : {theta_zx_estimates}')\n",
    "print(f'theta_zi : {theta_zi_estimates}')"
   ]
  },
  {
   "cell_type": "code",
   "execution_count": 30,
   "id": "ddff1ae1",
   "metadata": {},
   "outputs": [
    {
     "name": "stdout",
     "output_type": "stream",
     "text": [
      "Trusted theta_ix : 0.0987979129711678\n",
      "Trusted theta_zx : 1.873304561262954\n",
      "Trusted theta_zi : -0.19957720110130284\n"
     ]
    }
   ],
   "source": [
    "#Get final trusted estimates:\n",
    "#What are the actual phase estimates (in radians) for all depths?\n",
    "print(f'Trusted theta_ix : {theta_ix_estimates[last_good_estimate_generation]}')\n",
    "print(f'Trusted theta_zx : {theta_zx_estimates[last_good_estimate_generation]}')\n",
    "print(f'Trusted theta_zi : {theta_zi_estimates[last_good_estimate_generation]}')"
   ]
  },
  {
   "cell_type": "code",
   "execution_count": null,
   "id": "989a0445",
   "metadata": {},
   "outputs": [],
   "source": []
  }
 ],
 "metadata": {
  "kernelspec": {
   "display_name": "Python 3 (ipykernel)",
   "language": "python",
   "name": "python3"
  },
  "language_info": {
   "codemirror_mode": {
    "name": "ipython",
    "version": 3
   },
   "file_extension": ".py",
   "mimetype": "text/x-python",
   "name": "python",
   "nbconvert_exporter": "python",
   "pygments_lexer": "ipython3",
   "version": "3.9.13"
  }
 },
 "nbformat": 4,
 "nbformat_minor": 5
}
