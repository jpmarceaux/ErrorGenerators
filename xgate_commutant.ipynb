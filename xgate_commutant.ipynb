{
 "cells": [
  {
   "cell_type": "code",
   "execution_count": 2,
   "metadata": {
    "ExecuteTime": {
     "end_time": "2023-06-23T19:04:50.021593477Z",
     "start_time": "2023-06-23T19:04:50.009484961Z"
    },
    "tags": []
   },
   "outputs": [],
   "source": [
    "import matplotlib.pyplot as plt\n",
    "import numpy as np\n",
    "\n",
    "import error_generators as _eg\n",
    "from IPython.display import display\n",
    "from importlib import reload\n",
    "from scipy.linalg import expm, logm\n",
    "import sympy as _sp"
   ]
  },
  {
   "cell_type": "code",
   "execution_count": 3,
   "metadata": {
    "ExecuteTime": {
     "end_time": "2023-06-23T19:04:50.413768241Z",
     "start_time": "2023-06-23T19:04:50.381974160Z"
    },
    "collapsed": false,
    "jupyter": {
     "outputs_hidden": false
    },
    "tags": []
   },
   "outputs": [],
   "source": [
    "from pygsti.modelpacks import smq1Q_XYZI as std\n",
    "target_model = std.target_model()\n",
    "meas_0 = target_model[('Mdefault')]['0'].to_dense()\n",
    "meas_1 = target_model[('Mdefault')]['1'].to_dense()\n",
    "rho0 = target_model['rho0']\n",
    "rho0.depolarize(0.1)\n",
    "rho0 = rho0.to_dense()\n",
    "mat_Gx = np.round(target_model[('Gxpi2', 0)].to_dense(), 3)"
   ]
  },
  {
   "cell_type": "code",
   "execution_count": 4,
   "metadata": {
    "ExecuteTime": {
     "end_time": "2023-06-23T19:04:50.774879580Z",
     "start_time": "2023-06-23T19:04:50.762655773Z"
    },
    "tags": []
   },
   "outputs": [
    {
     "data": {
      "text/plain": [
       "array([0.70710678, 0.        , 0.        , 0.6363961 ])"
      ]
     },
     "execution_count": 4,
     "metadata": {},
     "output_type": "execute_result"
    }
   ],
   "source": [
    "rho0"
   ]
  },
  {
   "cell_type": "code",
   "execution_count": 5,
   "metadata": {
    "ExecuteTime": {
     "end_time": "2023-06-23T19:04:51.439163038Z",
     "start_time": "2023-06-23T19:04:51.147758426Z"
    },
    "collapsed": false,
    "jupyter": {
     "outputs_hidden": false
    },
    "tags": []
   },
   "outputs": [
    {
     "data": {
      "text/plain": [
       "<matplotlib.image.AxesImage at 0x7f60fd996770>"
      ]
     },
     "execution_count": 5,
     "metadata": {},
     "output_type": "execute_result"
    },
    {
     "data": {
      "image/png": "[encoded data removed]",
      "text/plain": [
       "<Figure size 480x480 with 1 Axes>"
      ]
     },
     "metadata": {},
     "output_type": "display_data"
    }
   ],
   "source": [
    "plt.matshow((mat_Gx))"
   ]
  },
  {
   "cell_type": "code",
   "execution_count": 6,
   "metadata": {
    "ExecuteTime": {
     "end_time": "2023-06-23T19:08:07.162033996Z",
     "start_time": "2023-06-23T19:08:07.138929417Z"
    },
    "collapsed": false,
    "jupyter": {
     "outputs_hidden": false
    },
    "tags": []
   },
   "outputs": [],
   "source": [
    "# investigating the pygsti superop_for_perfeact_twirl\n",
    "def _super_op_for_perfect_twirl(wrt, eps):\n",
    "    \"\"\"Return super operator for doing a perfect twirl with respect to wrt.\n",
    "    \"\"\"\n",
    "    assert wrt.shape[0] == wrt.shape[1]  # only square matrices allowed\n",
    "    dim = wrt.shape[0]\n",
    "    SuperOp = np.zeros((dim**2, dim**2), 'complex')\n",
    "\n",
    "    # Get spectrum and eigenvectors of wrt\n",
    "    wrtEvals, wrtEvecs = np.linalg.eig(wrt)\n",
    "    wrtEvecsInv = np.linalg.inv(wrtEvecs)\n",
    "\n",
    "    # We want to project  X -> M * (Proj_i * (Minv * X * M) * Proj_i) * Minv,\n",
    "    # where M = wrtEvecs. So A = B = M * Proj_i * Minv and so\n",
    "    # superop = A tensor B^T == A tensor A^T\n",
    "    # NOTE: this == (A^T tensor A)^T while *Maple* germ functions seem to just\n",
    "    # use A^T tensor A -> ^T difference\n",
    "    for i in range(dim):\n",
    "        # Create projector onto i-th eigenspace (spanned by i-th eigenvector\n",
    "        # and other degenerate eigenvectors)\n",
    "        Proj_i = np.diag([(1 if (abs(wrtEvals[i] - wrtEvals[j]) <= eps)\n",
    "                            else 0) for j in range(dim)])\n",
    "        A = np.dot(wrtEvecs, np.dot(Proj_i, wrtEvecsInv))\n",
    "        #if _np.linalg.norm(A.imag) > 1e-6:\n",
    "        #    print(\"DB: imag = \",_np.linalg.norm(A.imag))\n",
    "        #assert(_np.linalg.norm(A.imag) < 1e-6)\n",
    "        #A = _np.real(A)\n",
    "        # Need to normalize, because we are overcounting projectors onto\n",
    "        # subspaces of dimension d > 1, giving us d * Proj_i tensor Proj_i^T.\n",
    "        # We can fix this with a division by tr(Proj_i) = d.\n",
    "        SuperOp += np.kron(A, A.T) / np.trace(Proj_i)\n",
    "        # SuperOp += _np.kron(A.T,A) # Mimic Maple version (but I think this is\n",
    "        # wrong... or it doesn't matter?)\n",
    "    return SuperOp  # a op_dim^2 x op_dim^2 matrix"
   ]
  },
  {
   "cell_type": "code",
   "execution_count": 7,
   "metadata": {
    "ExecuteTime": {
     "end_time": "2023-06-23T19:08:07.680634488Z",
     "start_time": "2023-06-23T19:08:07.660642587Z"
    },
    "collapsed": false,
    "jupyter": {
     "outputs_hidden": false
    },
    "tags": []
   },
   "outputs": [
    {
     "data": {
      "text/plain": [
       "<module 'error_generators' from '/home/jpmarceaux/VSProjects/ErrorGenerators/error_generators.py'>"
      ]
     },
     "execution_count": 7,
     "metadata": {},
     "output_type": "execute_result"
    }
   ],
   "source": [
    "reload(_eg)"
   ]
  },
  {
   "cell_type": "code",
   "execution_count": 8,
   "metadata": {
    "ExecuteTime": {
     "end_time": "2023-06-23T19:08:36.820477519Z",
     "start_time": "2023-06-23T19:08:36.671285338Z"
    },
    "collapsed": false,
    "jupyter": {
     "outputs_hidden": false
    },
    "tags": []
   },
   "outputs": [
    {
     "name": "stderr",
     "output_type": "stream",
     "text": [
      "/home/jpmarceaux/anaconda3/envs/ErrorGenerators/lib/python3.10/site-packages/pygsti/modelmembers/operations/lindbladerrorgen.py:1691: UserWarning: Using 'CPTP' as a Lindblad type is deprecated, and you should now use 'CPTPLND'\n",
      "  _warnings.warn(\"Using 'CPTP' as a Lindblad type is deprecated, and you should now use 'CPTPLND'\")\n"
     ]
    }
   ],
   "source": [
    "ebasis = _eg.EEBasis(1)"
   ]
  },
  {
   "cell_type": "code",
   "execution_count": 9,
   "metadata": {
    "ExecuteTime": {
     "end_time": "2023-06-23T19:08:39.071233363Z",
     "start_time": "2023-06-23T19:08:39.003413071Z"
    },
    "collapsed": false
   },
   "outputs": [
    {
     "data": {
      "text/latex": [
       "$\\displaystyle \\left[\\begin{matrix}0 & 0 & 0 & 0\\\\- 4.0 {A}^{YxZ}_{Gq0} & - 2.0 {S}^{Y}_{Gq0} - 2.0 {S}^{Z}_{Gq0} & 2.0 {C}^{XxY}_{Gq0} - 2.0 {H}^{Z}_{Gq0} & 2.0 {C}^{XxZ}_{Gq0} + 2.0 {H}^{Y}_{Gq0}\\\\4.0 {A}^{XxZ}_{Gq0} & 2.0 {C}^{XxY}_{Gq0} + 2.0 {H}^{Z}_{Gq0} & - 2.0 {S}^{X}_{Gq0} - 2.0 {S}^{Z}_{Gq0} & 2.0 {C}^{YxZ}_{Gq0} - 2.0 {H}^{X}_{Gq0}\\\\- 4.0 {A}^{XxY}_{Gq0} & 2.0 {C}^{XxZ}_{Gq0} - 2.0 {H}^{Y}_{Gq0} & 2.0 {C}^{YxZ}_{Gq0} + 2.0 {H}^{X}_{Gq0} & - 2.0 {S}^{X}_{Gq0} - 2.0 {S}^{Y}_{Gq0}\\end{matrix}\\right]$"
      ],
      "text/plain": [
       "Matrix([\n",
       "[                   0,                                       0,                                       0,                                       0],\n",
       "[-4.0*{A}^{YxZ}_{Gq0},  -2.0*{S}^{Y}_{Gq0} - 2.0*{S}^{Z}_{Gq0}, 2.0*{C}^{XxY}_{Gq0} - 2.0*{H}^{Z}_{Gq0}, 2.0*{C}^{XxZ}_{Gq0} + 2.0*{H}^{Y}_{Gq0}],\n",
       "[ 4.0*{A}^{XxZ}_{Gq0}, 2.0*{C}^{XxY}_{Gq0} + 2.0*{H}^{Z}_{Gq0},  -2.0*{S}^{X}_{Gq0} - 2.0*{S}^{Z}_{Gq0}, 2.0*{C}^{YxZ}_{Gq0} - 2.0*{H}^{X}_{Gq0}],\n",
       "[-4.0*{A}^{XxY}_{Gq0}, 2.0*{C}^{XxZ}_{Gq0} - 2.0*{H}^{Y}_{Gq0}, 2.0*{C}^{YxZ}_{Gq0} + 2.0*{H}^{X}_{Gq0},  -2.0*{S}^{X}_{Gq0} - 2.0*{S}^{Y}_{Gq0}]])"
      ]
     },
     "execution_count": 9,
     "metadata": {},
     "output_type": "execute_result"
    }
   ],
   "source": [
    "ebasis.mat"
   ]
  },
  {
   "cell_type": "code",
   "execution_count": 10,
   "metadata": {
    "ExecuteTime": {
     "end_time": "2023-06-23T19:09:59.934183589Z",
     "start_time": "2023-06-23T19:09:59.837961745Z"
    },
    "tags": []
   },
   "outputs": [
    {
     "data": {
      "text/latex": [
       "$\\displaystyle \\left[\\begin{matrix}0 & 0 & 0 & 0\\\\0 & 0 & - 2.0 {C}^{XxY}_{Gq0} + 2.0 {C}^{XxZ}_{Gq0} + 2.0 {H}^{Y}_{Gq0} + 2.0 {H}^{Z}_{Gq0} & - 2.0 {C}^{XxY}_{Gq0} - 2.0 {C}^{XxZ}_{Gq0} - 2.0 {H}^{Y}_{Gq0} + 2.0 {H}^{Z}_{Gq0}\\\\- 4.0 {A}^{XxY}_{Gq0} + 4.0 {A}^{XxZ}_{Gq0} & 2.0 {C}^{XxY}_{Gq0} + 2.0 {C}^{XxZ}_{Gq0} - 2.0 {H}^{Y}_{Gq0} + 2.0 {H}^{Z}_{Gq0} & 4.0 {C}^{YxZ}_{Gq0} & - 2.0 {S}^{Y}_{Gq0} + 2.0 {S}^{Z}_{Gq0}\\\\- 4.0 {A}^{XxY}_{Gq0} - 4.0 {A}^{XxZ}_{Gq0} & - 2.0 {C}^{XxY}_{Gq0} + 2.0 {C}^{XxZ}_{Gq0} - 2.0 {H}^{Y}_{Gq0} - 2.0 {H}^{Z}_{Gq0} & - 2.0 {S}^{Y}_{Gq0} + 2.0 {S}^{Z}_{Gq0} & - 4.0 {C}^{YxZ}_{Gq0}\\end{matrix}\\right]$"
      ],
      "text/plain": [
       "Matrix([\n",
       "[                                         0,                                                                                  0,                                                                                  0,                                                                                  0],\n",
       "[                                         0,                                                                                  0, -2.0*{C}^{XxY}_{Gq0} + 2.0*{C}^{XxZ}_{Gq0} + 2.0*{H}^{Y}_{Gq0} + 2.0*{H}^{Z}_{Gq0}, -2.0*{C}^{XxY}_{Gq0} - 2.0*{C}^{XxZ}_{Gq0} - 2.0*{H}^{Y}_{Gq0} + 2.0*{H}^{Z}_{Gq0}],\n",
       "[-4.0*{A}^{XxY}_{Gq0} + 4.0*{A}^{XxZ}_{Gq0},  2.0*{C}^{XxY}_{Gq0} + 2.0*{C}^{XxZ}_{Gq0} - 2.0*{H}^{Y}_{Gq0} + 2.0*{H}^{Z}_{Gq0},                                                                4.0*{C}^{YxZ}_{Gq0},                                             -2.0*{S}^{Y}_{Gq0} + 2.0*{S}^{Z}_{Gq0}],\n",
       "[-4.0*{A}^{XxY}_{Gq0} - 4.0*{A}^{XxZ}_{Gq0}, -2.0*{C}^{XxY}_{Gq0} + 2.0*{C}^{XxZ}_{Gq0} - 2.0*{H}^{Y}_{Gq0} - 2.0*{H}^{Z}_{Gq0},                                             -2.0*{S}^{Y}_{Gq0} + 2.0*{S}^{Z}_{Gq0},                                                               -4.0*{C}^{YxZ}_{Gq0}]])"
      ]
     },
     "execution_count": 10,
     "metadata": {},
     "output_type": "execute_result"
    }
   ],
   "source": [
    "ebasis.mat@mat_Gx - mat_Gx@ebasis.mat"
   ]
  },
  {
   "cell_type": "code",
   "execution_count": 11,
   "metadata": {
    "ExecuteTime": {
     "end_time": "2023-06-23T19:10:08.321350997Z",
     "start_time": "2023-06-23T19:10:08.318890440Z"
    },
    "collapsed": false,
    "jupyter": {
     "outputs_hidden": false
    },
    "tags": []
   },
   "outputs": [],
   "source": [
    "projector = _super_op_for_perfect_twirl(mat_Gx, 1e-8)"
   ]
  },
  {
   "cell_type": "code",
   "execution_count": 12,
   "metadata": {
    "ExecuteTime": {
     "end_time": "2023-06-23T19:04:56.057199590Z",
     "start_time": "2023-06-23T19:04:55.976687497Z"
    },
    "tags": []
   },
   "outputs": [
    {
     "data": {
      "text/latex": [
       "$\\displaystyle \\left[\\begin{matrix}0 & 0 & 0 & 0\\\\- 4.0 {A}^{YxZ}_{Gq0} & - 2.0 {S}^{Y}_{Gq0} - 2.0 {S}^{Z}_{Gq0} & 2.0 {C}^{XxY}_{Gq0} - 2.0 {H}^{Z}_{Gq0} & 2.0 {C}^{XxZ}_{Gq0} + 2.0 {H}^{Y}_{Gq0}\\\\4.0 {A}^{XxZ}_{Gq0} & 2.0 {C}^{XxY}_{Gq0} + 2.0 {H}^{Z}_{Gq0} & - 2.0 {S}^{X}_{Gq0} - 2.0 {S}^{Z}_{Gq0} & 2.0 {C}^{YxZ}_{Gq0} - 2.0 {H}^{X}_{Gq0}\\\\- 4.0 {A}^{XxY}_{Gq0} & 2.0 {C}^{XxZ}_{Gq0} - 2.0 {H}^{Y}_{Gq0} & 2.0 {C}^{YxZ}_{Gq0} + 2.0 {H}^{X}_{Gq0} & - 2.0 {S}^{X}_{Gq0} - 2.0 {S}^{Y}_{Gq0}\\end{matrix}\\right]$"
      ],
      "text/plain": [
       "Matrix([\n",
       "[                   0,                                       0,                                       0,                                       0],\n",
       "[-4.0*{A}^{YxZ}_{Gq0},  -2.0*{S}^{Y}_{Gq0} - 2.0*{S}^{Z}_{Gq0}, 2.0*{C}^{XxY}_{Gq0} - 2.0*{H}^{Z}_{Gq0}, 2.0*{C}^{XxZ}_{Gq0} + 2.0*{H}^{Y}_{Gq0}],\n",
       "[ 4.0*{A}^{XxZ}_{Gq0}, 2.0*{C}^{XxY}_{Gq0} + 2.0*{H}^{Z}_{Gq0},  -2.0*{S}^{X}_{Gq0} - 2.0*{S}^{Z}_{Gq0}, 2.0*{C}^{YxZ}_{Gq0} - 2.0*{H}^{X}_{Gq0}],\n",
       "[-4.0*{A}^{XxY}_{Gq0}, 2.0*{C}^{XxZ}_{Gq0} - 2.0*{H}^{Y}_{Gq0}, 2.0*{C}^{YxZ}_{Gq0} + 2.0*{H}^{X}_{Gq0},  -2.0*{S}^{X}_{Gq0} - 2.0*{S}^{Y}_{Gq0}]])"
      ]
     },
     "execution_count": 12,
     "metadata": {},
     "output_type": "execute_result"
    }
   ],
   "source": [
    "ebasis.mat.reshape(16, 1).reshape(4,4)"
   ]
  },
  {
   "cell_type": "code",
   "execution_count": 13,
   "metadata": {
    "ExecuteTime": {
     "end_time": "2023-06-23T19:10:47.766591787Z",
     "start_time": "2023-06-23T19:10:47.681690693Z"
    },
    "collapsed": false,
    "jupyter": {
     "outputs_hidden": false
    },
    "tags": []
   },
   "outputs": [],
   "source": [
    "commuting_egen = (_sp.Matrix(projector)@ebasis.mat.reshape(16, 1)).reshape(4,4)"
   ]
  },
  {
   "cell_type": "code",
   "execution_count": 14,
   "metadata": {
    "ExecuteTime": {
     "end_time": "2023-06-23T19:11:02.912699964Z",
     "start_time": "2023-06-23T19:11:02.860913893Z"
    },
    "tags": []
   },
   "outputs": [
    {
     "data": {
      "text/latex": [
       "$\\displaystyle \\left[\\begin{matrix}0 & 0 & 0 & 0\\\\- 4.0 {A}^{YxZ}_{Gq0} & - 2.0 {S}^{Y}_{Gq0} - 2.0 {S}^{Z}_{Gq0} & 0 & 0\\\\0 & 0 & - 2.0 {S}^{X}_{Gq0} - 1.0 {S}^{Y}_{Gq0} - 1.0 {S}^{Z}_{Gq0} & - 2.0 {H}^{X}_{Gq0}\\\\0 & 0 & 2.0 {H}^{X}_{Gq0} & - 2.0 {S}^{X}_{Gq0} - 1.0 {S}^{Y}_{Gq0} - 1.0 {S}^{Z}_{Gq0}\\end{matrix}\\right]$"
      ],
      "text/plain": [
       "Matrix([\n",
       "[                   0,                                      0,                                                          0,                                                          0],\n",
       "[-4.0*{A}^{YxZ}_{Gq0}, -2.0*{S}^{Y}_{Gq0} - 2.0*{S}^{Z}_{Gq0},                                                          0,                                                          0],\n",
       "[                   0,                                      0, -2.0*{S}^{X}_{Gq0} - 1.0*{S}^{Y}_{Gq0} - 1.0*{S}^{Z}_{Gq0},                                         -2.0*{H}^{X}_{Gq0}],\n",
       "[                   0,                                      0,                                          2.0*{H}^{X}_{Gq0}, -2.0*{S}^{X}_{Gq0} - 1.0*{S}^{Y}_{Gq0} - 1.0*{S}^{Z}_{Gq0}]])"
      ]
     },
     "execution_count": 14,
     "metadata": {},
     "output_type": "execute_result"
    }
   ],
   "source": [
    "commuting_egen"
   ]
  },
  {
   "cell_type": "code",
   "execution_count": 15,
   "metadata": {
    "ExecuteTime": {
     "end_time": "2023-06-23T19:11:14.989006665Z",
     "start_time": "2023-06-23T19:11:14.825977278Z"
    },
    "tags": []
   },
   "outputs": [
    {
     "data": {
      "text/latex": [
       "$\\displaystyle \\left[\\begin{matrix}0 & 0 & 0 & 0\\\\0 & 0 & 0 & 0\\\\0 & 0 & 0 & 0\\\\0 & 0 & 0 & 0\\end{matrix}\\right]$"
      ],
      "text/plain": [
       "Matrix([\n",
       "[0, 0, 0, 0],\n",
       "[0, 0, 0, 0],\n",
       "[0, 0, 0, 0],\n",
       "[0, 0, 0, 0]])"
      ]
     },
     "execution_count": 15,
     "metadata": {},
     "output_type": "execute_result"
    }
   ],
   "source": [
    "commuting_egen@mat_Gx - mat_Gx@commuting_egen"
   ]
  },
  {
   "cell_type": "code",
   "execution_count": 16,
   "metadata": {
    "ExecuteTime": {
     "end_time": "2023-06-23T19:11:15.542372078Z",
     "start_time": "2023-06-23T19:11:15.342337515Z"
    },
    "tags": []
   },
   "outputs": [
    {
     "name": "stderr",
     "output_type": "stream",
     "text": [
      "100%|██████████| 12/12 [00:00<00:00, 295.55it/s]\n"
     ]
    },
    {
     "data": {
      "text/plain": [
       "{('H', ('X',), (0,)): 1.0*{H}^{X}_{Gq0},\n",
       " ('H', ('Y',), (0,)): 0,\n",
       " ('H', ('Z',), (0,)): 0,\n",
       " ('S', ('X',), (0,)): 1.0*{S}^{X}_{Gq0},\n",
       " ('C', ('X', 'Y'), (0,)): 0,\n",
       " ('A', ('X', 'Y'), (0,)): 0,\n",
       " ('C', ('X', 'Z'), (0,)): 0,\n",
       " ('A', ('X', 'Z'), (0,)): 0,\n",
       " ('S', ('Y',), (0,)): 0.5*{S}^{Y}_{Gq0} + 0.5*{S}^{Z}_{Gq0},\n",
       " ('C', ('Y', 'Z'), (0,)): 0,\n",
       " ('A', ('Y', 'Z'), (0,)): 1.0*{A}^{YxZ}_{Gq0},\n",
       " ('S', ('Z',), (0,)): 0.5*{S}^{Y}_{Gq0} + 0.5*{S}^{Z}_{Gq0}}"
      ]
     },
     "execution_count": 16,
     "metadata": {},
     "output_type": "execute_result"
    }
   ],
   "source": [
    "ebasis.extract_rates(commuting_egen)"
   ]
  },
  {
   "cell_type": "code",
   "execution_count": 54,
   "metadata": {
    "tags": []
   },
   "outputs": [
    {
     "name": "stdout",
     "output_type": "stream",
     "text": [
      "[ 0.  0.  0. -1.]\n",
      "[0. 0. 1. 0.]\n",
      "[0. 0. 0. 1.]\n",
      "[ 0.  0. -1.  0.]\n"
     ]
    }
   ],
   "source": [
    "for r in rhos:\n",
    "    print(SySz@r)"
   ]
  },
  {
   "cell_type": "code",
   "execution_count": 64,
   "metadata": {
    "tags": []
   },
   "outputs": [
    {
     "data": {
      "text/latex": [
       "$\\displaystyle \\left[\\begin{matrix}1.0 & 0 & 0 & 0\\\\\\frac{2.0 {A}^{YxZ}_{Gq0} e^{- 2.0 {S}^{Y}_{Gq0} - 2.0 {S}^{Z}_{Gq0}}}{{S}^{Y}_{Gq0} + {S}^{Z}_{Gq0}} - \\frac{2.0 {A}^{YxZ}_{Gq0}}{{S}^{Y}_{Gq0} + {S}^{Z}_{Gq0}} & 1.0 e^{- 2.0 {S}^{Y}_{Gq0} - 2.0 {S}^{Z}_{Gq0}} & 0 & 0\\\\0 & 0 & 0.5 \\left(e^{4.0 i {H}^{X}_{Gq0}} + 1\\right) e^{- 2.0 i {H}^{X}_{Gq0} - 2.0 {S}^{X}_{Gq0} - {S}^{Y}_{Gq0} - {S}^{Z}_{Gq0}} & 0.5 i \\left(e^{4.0 i {H}^{X}_{Gq0}} - 1\\right) e^{- 2.0 i {H}^{X}_{Gq0} - 2.0 {S}^{X}_{Gq0} - {S}^{Y}_{Gq0} - {S}^{Z}_{Gq0}}\\\\0 & 0 & 0.5 i \\left(1 - e^{4.0 i {H}^{X}_{Gq0}}\\right) e^{- 2.0 i {H}^{X}_{Gq0} - 2.0 {S}^{X}_{Gq0} - {S}^{Y}_{Gq0} - {S}^{Z}_{Gq0}} & 0.5 \\left(e^{4.0 i {H}^{X}_{Gq0}} + 1\\right) e^{- 2.0 i {H}^{X}_{Gq0} - 2.0 {S}^{X}_{Gq0} - {S}^{Y}_{Gq0} - {S}^{Z}_{Gq0}}\\end{matrix}\\right]$"
      ],
      "text/plain": [
       "Matrix([\n",
       "[                                                                                                                                                  1.0,                                               0,                                                                                                                  0,                                                                                                                  0],\n",
       "[2.0*{A}^{YxZ}_{Gq0}*exp(-2.0*{S}^{Y}_{Gq0} - 2.0*{S}^{Z}_{Gq0})/({S}^{Y}_{Gq0} + {S}^{Z}_{Gq0}) - 2.0*{A}^{YxZ}_{Gq0}/({S}^{Y}_{Gq0} + {S}^{Z}_{Gq0}), 1.0*exp(-2.0*{S}^{Y}_{Gq0} - 2.0*{S}^{Z}_{Gq0}),                                                                                                                  0,                                                                                                                  0],\n",
       "[                                                                                                                                                    0,                                               0,   0.5*(exp(4.0*I*{H}^{X}_{Gq0}) + 1)*exp(-2.0*I*{H}^{X}_{Gq0} - 2.0*{S}^{X}_{Gq0} - {S}^{Y}_{Gq0} - {S}^{Z}_{Gq0}), 0.5*I*(exp(4.0*I*{H}^{X}_{Gq0}) - 1)*exp(-2.0*I*{H}^{X}_{Gq0} - 2.0*{S}^{X}_{Gq0} - {S}^{Y}_{Gq0} - {S}^{Z}_{Gq0})],\n",
       "[                                                                                                                                                    0,                                               0, 0.5*I*(1 - exp(4.0*I*{H}^{X}_{Gq0}))*exp(-2.0*I*{H}^{X}_{Gq0} - 2.0*{S}^{X}_{Gq0} - {S}^{Y}_{Gq0} - {S}^{Z}_{Gq0}),   0.5*(exp(4.0*I*{H}^{X}_{Gq0}) + 1)*exp(-2.0*I*{H}^{X}_{Gq0} - 2.0*{S}^{X}_{Gq0} - {S}^{Y}_{Gq0} - {S}^{Z}_{Gq0})]])"
      ]
     },
     "execution_count": 64,
     "metadata": {},
     "output_type": "execute_result"
    }
   ],
   "source": [
    "_sp.simplify(_sp.exp(commuting_egen))"
   ]
  },
  {
   "cell_type": "code",
   "execution_count": 68,
   "metadata": {},
   "outputs": [
    {
     "data": {
      "text/latex": [
       "$\\displaystyle \\left\\{ 1.0 : 1, \\  1.0 e^{- 2.0 {S}^{Y}_{Gq0}} e^{- 2.0 {S}^{Z}_{Gq0}} : 1, \\  - \\frac{\\sqrt{- \\left(2.0 e^{4.0 i {H}^{X}_{Gq0}} + 1.0 e^{8.0 i {H}^{X}_{Gq0}} + 1.0\\right) e^{8.0 {S}^{X}_{Gq0} + 2 {S}^{Y}_{Gq0} + 2 {S}^{Z}_{Gq0}}} e^{- 6.0 {S}^{X}_{Gq0}} e^{- 2 {S}^{Y}_{Gq0}} e^{- 2 {S}^{Z}_{Gq0}} e^{- 2.0 i {H}^{X}_{Gq0}}}{2} + 0.5 i \\left(e^{4.0 i {H}^{X}_{Gq0}} - 1\\right) e^{- 2.0 i {H}^{X}_{Gq0} - 2.0 {S}^{X}_{Gq0} - {S}^{Y}_{Gq0} - {S}^{Z}_{Gq0}} : 1, \\  \\frac{\\sqrt{- \\left(2.0 e^{4.0 i {H}^{X}_{Gq0}} + 1.0 e^{8.0 i {H}^{X}_{Gq0}} + 1.0\\right) e^{8.0 {S}^{X}_{Gq0} + 2 {S}^{Y}_{Gq0} + 2 {S}^{Z}_{Gq0}}} e^{- 6.0 {S}^{X}_{Gq0}} e^{- 2 {S}^{Y}_{Gq0}} e^{- 2 {S}^{Z}_{Gq0}} e^{- 2.0 i {H}^{X}_{Gq0}}}{2} + 0.5 i \\left(e^{4.0 i {H}^{X}_{Gq0}} - 1\\right) e^{- 2.0 i {H}^{X}_{Gq0} - 2.0 {S}^{X}_{Gq0} - {S}^{Y}_{Gq0} - {S}^{Z}_{Gq0}} : 1\\right\\}$"
      ],
      "text/plain": [
       "{1.0: 1, 1.0*exp(-2.0*{S}^{Y}_{Gq0})*exp(-2.0*{S}^{Z}_{Gq0}): 1, -sqrt(-(2.0*exp(4.0*I*{H}^{X}_{Gq0}) + 1.0*exp(8.0*I*{H}^{X}_{Gq0}) + 1.0)*exp(8.0*{S}^{X}_{Gq0} + 2*{S}^{Y}_{Gq0} + 2*{S}^{Z}_{Gq0}))*exp(-6.0*{S}^{X}_{Gq0})*exp(-2*{S}^{Y}_{Gq0})*exp(-2*{S}^{Z}_{Gq0})*exp(-2.0*I*{H}^{X}_{Gq0})/2 + 0.5*I*(exp(4.0*I*{H}^{X}_{Gq0}) - 1)*exp(-2.0*I*{H}^{X}_{Gq0} - 2.0*{S}^{X}_{Gq0} - {S}^{Y}_{Gq0} - {S}^{Z}_{Gq0}): 1, sqrt(-(2.0*exp(4.0*I*{H}^{X}_{Gq0}) + 1.0*exp(8.0*I*{H}^{X}_{Gq0}) + 1.0)*exp(8.0*{S}^{X}_{Gq0} + 2*{S}^{Y}_{Gq0} + 2*{S}^{Z}_{Gq0}))*exp(-6.0*{S}^{X}_{Gq0})*exp(-2*{S}^{Y}_{Gq0})*exp(-2*{S}^{Z}_{Gq0})*exp(-2.0*I*{H}^{X}_{Gq0})/2 + 0.5*I*(exp(4.0*I*{H}^{X}_{Gq0}) - 1)*exp(-2.0*I*{H}^{X}_{Gq0} - 2.0*{S}^{X}_{Gq0} - {S}^{Y}_{Gq0} - {S}^{Z}_{Gq0}): 1}"
      ]
     },
     "execution_count": 68,
     "metadata": {},
     "output_type": "execute_result"
    }
   ],
   "source": [
    "_sp.simplify((_sp.exp(commuting_egen)@mat_Gx).eigenvals())"
   ]
  },
  {
   "cell_type": "code",
   "execution_count": 70,
   "metadata": {
    "tags": []
   },
   "outputs": [
    {
     "data": {
      "text/plain": [
       "{1.00000000000000: 2, -1.0*I: 1, 1.0*I: 1}"
      ]
     },
     "execution_count": 70,
     "metadata": {},
     "output_type": "execute_result"
    }
   ],
   "source": [
    "_sp.Matrix(mat_Gx).eigenvals()"
   ]
  },
  {
   "cell_type": "code",
   "execution_count": null,
   "metadata": {},
   "outputs": [],
   "source": []
  }
 ],
 "metadata": {
  "kernelspec": {
   "display_name": "Python 3 (ipykernel)",
   "language": "python",
   "name": "python3"
  },
  "language_info": {
   "codemirror_mode": {
    "name": "ipython",
    "version": 3
   },
   "file_extension": ".py",
   "mimetype": "text/x-python",
   "name": "python",
   "nbconvert_exporter": "python",
   "pygments_lexer": "ipython3",
   "version": "3.10.11"
  }
 },
 "nbformat": 4,
 "nbformat_minor": 4
}
